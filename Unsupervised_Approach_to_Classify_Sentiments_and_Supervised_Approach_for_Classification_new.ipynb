{
  "nbformat": 4,
  "nbformat_minor": 0,
  "metadata": {
    "colab": {
      "name": "Unsupervised Approach to Classify Sentiments and Supervised Approach for Classification_new.ipynb",
      "provenance": [],
      "collapsed_sections": [],
      "include_colab_link": true
    },
    "kernelspec": {
      "name": "python3",
      "display_name": "Python 3"
    }
  },
  "cells": [
    {
      "cell_type": "markdown",
      "metadata": {
        "id": "view-in-github",
        "colab_type": "text"
      },
      "source": [
        "<a href=\"https://colab.research.google.com/github/sudeepmathew/Voice-Of-Customer/blob/master/Unsupervised_Approach_to_Classify_Sentiments_and_Supervised_Approach_for_Classification_new.ipynb\" target=\"_parent\"><img src=\"https://colab.research.google.com/assets/colab-badge.svg\" alt=\"Open In Colab\"/></a>"
      ]
    },
    {
      "cell_type": "markdown",
      "metadata": {
        "id": "k_YmIPHubWrB",
        "colab_type": "text"
      },
      "source": [
        "# Getting Data"
      ]
    },
    {
      "cell_type": "code",
      "metadata": {
        "id": "yTBfcuoo_xeU",
        "colab_type": "code",
        "outputId": "54f71146-0c0a-444d-c269-57defbce0053",
        "colab": {
          "base_uri": "https://localhost:8080/",
          "height": 122
        }
      },
      "source": [
        "from google.colab import drive\n",
        "drive.mount('/gdrive')"
      ],
      "execution_count": 1,
      "outputs": [
        {
          "output_type": "stream",
          "text": [
            "Go to this URL in a browser: https://accounts.google.com/o/oauth2/auth?client_id=947318989803-6bn6qk8qdgf4n4g3pfee6491hc0brc4i.apps.googleusercontent.com&redirect_uri=urn%3Aietf%3Awg%3Aoauth%3A2.0%3Aoob&scope=email%20https%3A%2F%2Fwww.googleapis.com%2Fauth%2Fdocs.test%20https%3A%2F%2Fwww.googleapis.com%2Fauth%2Fdrive%20https%3A%2F%2Fwww.googleapis.com%2Fauth%2Fdrive.photos.readonly%20https%3A%2F%2Fwww.googleapis.com%2Fauth%2Fpeopleapi.readonly&response_type=code\n",
            "\n",
            "Enter your authorization code:\n",
            "··········\n",
            "Mounted at /gdrive\n"
          ],
          "name": "stdout"
        }
      ]
    },
    {
      "cell_type": "code",
      "metadata": {
        "id": "DyLVm2pCAS6Z",
        "colab_type": "code",
        "colab": {}
      },
      "source": [
        "#import nessassary packages\n",
        "import pandas as pd\n",
        "import numpy as np\n",
        "import pandas as pd\n",
        "import matplotlib.pyplot as plt \n",
        "import seaborn as sns\n",
        "import nltk\n",
        "from nltk import FreqDist\n",
        "import spacy"
      ],
      "execution_count": 0,
      "outputs": []
    },
    {
      "cell_type": "code",
      "metadata": {
        "id": "NDA5s21yAZYn",
        "colab_type": "code",
        "colab": {}
      },
      "source": [
        "data = pd.read_csv(\"/gdrive/My Drive/MGHectorComments.csv\")"
      ],
      "execution_count": 0,
      "outputs": []
    },
    {
      "cell_type": "markdown",
      "metadata": {
        "id": "MvTB5ggDB8Tm",
        "colab_type": "text"
      },
      "source": [
        "# Let's take a look in the data"
      ]
    },
    {
      "cell_type": "code",
      "metadata": {
        "id": "BtBQF3MYB1md",
        "colab_type": "code",
        "outputId": "0331ab42-1202-4401-af3c-15fcd3ee9258",
        "colab": {
          "base_uri": "https://localhost:8080/",
          "height": 204
        }
      },
      "source": [
        "data.head()"
      ],
      "execution_count": 4,
      "outputs": [
        {
          "output_type": "execute_result",
          "data": {
            "text/html": [
              "<div>\n",
              "<style scoped>\n",
              "    .dataframe tbody tr th:only-of-type {\n",
              "        vertical-align: middle;\n",
              "    }\n",
              "\n",
              "    .dataframe tbody tr th {\n",
              "        vertical-align: top;\n",
              "    }\n",
              "\n",
              "    .dataframe thead th {\n",
              "        text-align: right;\n",
              "    }\n",
              "</style>\n",
              "<table border=\"1\" class=\"dataframe\">\n",
              "  <thead>\n",
              "    <tr style=\"text-align: right;\">\n",
              "      <th></th>\n",
              "      <th>selection1_name</th>\n",
              "    </tr>\n",
              "  </thead>\n",
              "  <tbody>\n",
              "    <tr>\n",
              "      <th>0</th>\n",
              "      <td>Quote:\\nOriginally Posted by blackwasp\\nThanks...</td>\n",
              "    </tr>\n",
              "    <tr>\n",
              "      <th>1</th>\n",
              "      <td>What's happening with the names of cars these ...</td>\n",
              "    </tr>\n",
              "    <tr>\n",
              "      <th>2</th>\n",
              "      <td>Quote:\\nOriginally Posted by blackwasp\\nThanks...</td>\n",
              "    </tr>\n",
              "    <tr>\n",
              "      <th>3</th>\n",
              "      <td>Just quickly Googled about this Hector/Baojun ...</td>\n",
              "    </tr>\n",
              "    <tr>\n",
              "      <th>4</th>\n",
              "      <td>Quote:\\nOriginally Posted by rovingeye\\nJust q...</td>\n",
              "    </tr>\n",
              "  </tbody>\n",
              "</table>\n",
              "</div>"
            ],
            "text/plain": [
              "                                     selection1_name\n",
              "0  Quote:\\nOriginally Posted by blackwasp\\nThanks...\n",
              "1  What's happening with the names of cars these ...\n",
              "2  Quote:\\nOriginally Posted by blackwasp\\nThanks...\n",
              "3  Just quickly Googled about this Hector/Baojun ...\n",
              "4  Quote:\\nOriginally Posted by rovingeye\\nJust q..."
            ]
          },
          "metadata": {
            "tags": []
          },
          "execution_count": 4
        }
      ]
    },
    {
      "cell_type": "code",
      "metadata": {
        "id": "6e4yk9pgB333",
        "colab_type": "code",
        "outputId": "2c86e90c-273a-4939-e4b1-54e0b2223747",
        "colab": {
          "base_uri": "https://localhost:8080/",
          "height": 34
        }
      },
      "source": [
        "data.shape"
      ],
      "execution_count": 0,
      "outputs": [
        {
          "output_type": "execute_result",
          "data": {
            "text/plain": [
              "(1623, 1)"
            ]
          },
          "metadata": {
            "tags": []
          },
          "execution_count": 23
        }
      ]
    },
    {
      "cell_type": "markdown",
      "metadata": {
        "id": "XVU3JKBrClQt",
        "colab_type": "text"
      },
      "source": [
        "# **Preprocessing Data**"
      ]
    },
    {
      "cell_type": "code",
      "metadata": {
        "id": "VjadWSXQB55Q",
        "colab_type": "code",
        "outputId": "923c4376-ec12-4005-cb55-28da1e77fe0f",
        "colab": {
          "base_uri": "https://localhost:8080/",
          "height": 153
        }
      },
      "source": [
        "nltk.download('wordnet') \n",
        "from nltk.stem.porter import PorterStemmer\n",
        "from nltk.stem.wordnet import WordNetLemmatizer\n",
        "lem = WordNetLemmatizer()\n",
        "stem = PorterStemmer()\n",
        "word = \"inversely\"\n",
        "print(\"stemming:\",stem.stem(word))\n",
        "print(\"lemmatization:\", lem.lemmatize(word, \"v\"))\n",
        "\n",
        "# Libraries for text preprocessing\n",
        "import re\n",
        "import nltk\n",
        "nltk.download('stopwords')\n",
        "from nltk.corpus import stopwords\n",
        "from nltk.stem.porter import PorterStemmer\n",
        "from nltk.tokenize import RegexpTokenizer\n",
        "nltk.download('wordnet') \n",
        "from nltk.stem.wordnet import WordNetLemmatizer"
      ],
      "execution_count": 5,
      "outputs": [
        {
          "output_type": "stream",
          "text": [
            "[nltk_data] Downloading package wordnet to /root/nltk_data...\n",
            "[nltk_data]   Unzipping corpora/wordnet.zip.\n",
            "stemming: invers\n",
            "lemmatization: inversely\n",
            "[nltk_data] Downloading package stopwords to /root/nltk_data...\n",
            "[nltk_data]   Unzipping corpora/stopwords.zip.\n",
            "[nltk_data] Downloading package wordnet to /root/nltk_data...\n",
            "[nltk_data]   Package wordnet is already up-to-date!\n"
          ],
          "name": "stdout"
        }
      ]
    },
    {
      "cell_type": "markdown",
      "metadata": {
        "id": "ip8KEsTcbh08",
        "colab_type": "text"
      },
      "source": [
        "# Creating a Custom Stop Words List and Removing stop Words from Reviews"
      ]
    },
    {
      "cell_type": "code",
      "metadata": {
        "id": "vk9ZffHvDlT_",
        "colab_type": "code",
        "colab": {}
      },
      "source": [
        "##Creating a list of stop words and adding custom stopwords\n",
        "stop_words = set(stopwords.words(\"english\"))\n",
        "##Creating a list of custom stopwords\n",
        "new_words = [\"using\", \"show\", \"result\", \"large\", \"also\", \"iv\", \"one\", \"two\", \"get\",\"like\",\"think\",\"new\",\"much\",\n",
        "             \"https\", \"previously\", \"shown\",\"quote\",\"originally\",\"posted\",\"post\",\"owner\",\"youtube\",\"www\",\"http\",\"would\"]\n",
        "stop_words = stop_words.union(new_words)"
      ],
      "execution_count": 0,
      "outputs": []
    },
    {
      "cell_type": "markdown",
      "metadata": {
        "id": "yeKaadE1bzxp",
        "colab_type": "text"
      },
      "source": [
        "# Creating a Corpus of Cleaned Reviews"
      ]
    },
    {
      "cell_type": "code",
      "metadata": {
        "id": "2MXDjPCZDoFH",
        "colab_type": "code",
        "colab": {}
      },
      "source": [
        "corpus = []\n",
        "for i in range(0, 1623):\n",
        "    #Remove punctuations\n",
        "    text = re.sub('[^a-zA-Z]', ' ', data['selection1_name'][i])\n",
        "    \n",
        "    #Convert to lowercase\n",
        "    text = text.lower()\n",
        "    \n",
        "    #remove tags\n",
        "    text=re.sub(\"&lt;/?.*?&gt;\",\" &lt;&gt; \",text)\n",
        "    \n",
        "    # remove special characters and digits\n",
        "    text=re.sub(\"(\\\\d|\\\\W)+\",\" \",text)\n",
        "    \n",
        "    ##Convert to list from string\n",
        "    text = text.split()\n",
        "    \n",
        "    ##Stemming\n",
        "    ps=PorterStemmer()\n",
        "    #Lemmatisation\n",
        "    lem = WordNetLemmatizer()\n",
        "    text = [word for word in text if not word in  \n",
        "            stop_words] \n",
        "    text = \" \".join(text)\n",
        "    corpus.append(text)"
      ],
      "execution_count": 0,
      "outputs": []
    },
    {
      "cell_type": "code",
      "metadata": {
        "id": "QAF_7InJDtmm",
        "colab_type": "code",
        "outputId": "d56d98cb-29fe-48e8-b9c8-ceefa51fe26f",
        "colab": {
          "base_uri": "https://localhost:8080/",
          "height": 34
        }
      },
      "source": [
        "#View corpus item\n",
        "print(corpus[200])"
      ],
      "execution_count": 47,
      "outputs": [
        {
          "output_type": "stream",
          "text": [
            "another mg hector breakdown time reported hyderabad youtu vkzt cacwdm\n"
          ],
          "name": "stdout"
        }
      ]
    },
    {
      "cell_type": "markdown",
      "metadata": {
        "id": "9BZ0gaCHcAPf",
        "colab_type": "text"
      },
      "source": [
        "# Visualising in WordCloud"
      ]
    },
    {
      "cell_type": "code",
      "metadata": {
        "id": "2EUlwjvgEkzV",
        "colab_type": "code",
        "outputId": "c793e584-49ed-4250-ea60-f5aeb65ff320",
        "colab": {
          "base_uri": "https://localhost:8080/",
          "height": 236
        }
      },
      "source": [
        "#Word cloud\n",
        "from os import path\n",
        "from PIL import Image\n",
        "from wordcloud import WordCloud, STOPWORDS, ImageColorGenerator\n",
        "import matplotlib.pyplot as plt\n",
        "% matplotlib inline\n",
        "wordcloud = WordCloud(background_color='white',\n",
        "                          stopwords=stop_words,\n",
        "                          max_words=100,\n",
        "                          max_font_size=50, \n",
        "                          random_state=42\n",
        "                         ).generate(str(corpus))\n",
        "print(wordcloud)\n",
        "fig = plt.figure(1)\n",
        "plt.imshow(wordcloud)\n",
        "plt.axis('off')\n",
        "plt.show()\n",
        "fig.savefig(\"word1.png\", dpi=900)"
      ],
      "execution_count": 48,
      "outputs": [
        {
          "output_type": "stream",
          "text": [
            "<wordcloud.wordcloud.WordCloud object at 0x7fa62ebcd320>\n"
          ],
          "name": "stdout"
        },
        {
          "output_type": "display_data",
          "data": {
            "image/png": "[encoded data removed]",
            "text/plain": [
              "<Figure size 432x288 with 1 Axes>"
            ]
          },
          "metadata": {
            "tags": []
          }
        }
      ]
    },
    {
      "cell_type": "code",
      "metadata": {
        "id": "ejw_vZGUFRB1",
        "colab_type": "code",
        "outputId": "6ced94ac-56f2-4b40-d922-4e059eba21b7",
        "colab": {
          "base_uri": "https://localhost:8080/",
          "height": 34
        }
      },
      "source": [
        "len(corpus)"
      ],
      "execution_count": 49,
      "outputs": [
        {
          "output_type": "execute_result",
          "data": {
            "text/plain": [
              "1623"
            ]
          },
          "metadata": {
            "tags": []
          },
          "execution_count": 49
        }
      ]
    },
    {
      "cell_type": "markdown",
      "metadata": {
        "id": "71u8T4iNcH5n",
        "colab_type": "text"
      },
      "source": [
        "# Creating Bag of Words"
      ]
    },
    {
      "cell_type": "code",
      "metadata": {
        "id": "-LwEUYo4GBZR",
        "colab_type": "code",
        "colab": {}
      },
      "source": [
        "bagofwords = []\n",
        "for i in range (0,1623):\n",
        "  words =corpus[i].split()\n",
        "  bagofwords.append(words)"
      ],
      "execution_count": 0,
      "outputs": []
    },
    {
      "cell_type": "code",
      "metadata": {
        "id": "a0xKzGMJGcjv",
        "colab_type": "code",
        "outputId": "56c9ab94-1175-4439-d871-e7abf77f2173",
        "colab": {
          "base_uri": "https://localhost:8080/",
          "height": 54
        }
      },
      "source": [
        "#printing bag of word of 100th item in the list\n",
        "print(bagofwords[100])"
      ],
      "execution_count": 51,
      "outputs": [
        {
          "output_type": "stream",
          "text": [
            "['jailbird', 'fynix', 'mg', 'hector', 'club', 'india', 'fb', 'page', 'diesel', 'sharp', 'variant', 'lost', 'count', 'number', 'similar', 'posts', 'attachment', 'mods', 'please', 'remove', 'inappropriate', 'actually', 'found', 'person', 'car', 'saw', 'car', 'road', 'side', 'bonnet', 'open', 'added', 'smoke', 'burning', 'comment', 'people', 'found', 'registration', 'number', 'person', 'actual', 'confronted', 'acknowledged', 'saw', 'car', 'road', 'clicked', 'pics']\n"
          ],
          "name": "stdout"
        }
      ]
    },
    {
      "cell_type": "markdown",
      "metadata": {
        "id": "fHMxg5NWcNwH",
        "colab_type": "text"
      },
      "source": [
        "# Finding frequent Words from the Reviews"
      ]
    },
    {
      "cell_type": "code",
      "metadata": {
        "id": "zVRerHdiGq45",
        "colab_type": "code",
        "outputId": "c53e363c-970e-48a3-b6b1-693df131411f",
        "colab": {
          "base_uri": "https://localhost:8080/",
          "height": 425
        }
      },
      "source": [
        "import itertools\n",
        "import collections\n",
        "all_words = list(itertools.chain(*bagofwords))\n",
        "print(all_words[0:10])\n",
        "print()\n",
        "print('Most commonly occuring words and frequency\\n')\n",
        "word_freq = collections.Counter(all_words)\n",
        "word_freq.most_common(20)"
      ],
      "execution_count": 52,
      "outputs": [
        {
          "output_type": "stream",
          "text": [
            "['blackwasp', 'thanks', 'automobiles', 'encyclopedia', 'sending', 'images', 'seen', 'quite', 'times', 'city']\n",
            "\n",
            "Most commonly occuring words and frequency\n",
            "\n"
          ],
          "name": "stdout"
        },
        {
          "output_type": "execute_result",
          "data": {
            "text/plain": [
              "[('car', 1388),\n",
              " ('hector', 1360),\n",
              " ('mg', 1294),\n",
              " ('diesel', 568),\n",
              " ('petrol', 511),\n",
              " ('even', 491),\n",
              " ('cars', 459),\n",
              " ('well', 443),\n",
              " ('seltos', 433),\n",
              " ('kmpl', 419),\n",
              " ('good', 416),\n",
              " ('drive', 402),\n",
              " ('harrier', 398),\n",
              " ('people', 377),\n",
              " ('dct', 377),\n",
              " ('time', 343),\n",
              " ('vehicle', 317),\n",
              " ('mileage', 309),\n",
              " ('going', 302),\n",
              " ('price', 296)]"
            ]
          },
          "metadata": {
            "tags": []
          },
          "execution_count": 52
        }
      ]
    },
    {
      "cell_type": "markdown",
      "metadata": {
        "id": "4XlmPe8jcYBh",
        "colab_type": "text"
      },
      "source": [
        "# Creating Data frame for Words and Frequency"
      ]
    },
    {
      "cell_type": "code",
      "metadata": {
        "id": "6Joy3BVvIesa",
        "colab_type": "code",
        "outputId": "a88d3faa-fd28-4daf-b551-abf958bf46b6",
        "colab": {
          "base_uri": "https://localhost:8080/",
          "height": 204
        }
      },
      "source": [
        "freq_word_df = pd.DataFrame(word_freq.most_common(20), columns = ['Words','Freq'])\n",
        "freq_word_df.head()"
      ],
      "execution_count": 53,
      "outputs": [
        {
          "output_type": "execute_result",
          "data": {
            "text/html": [
              "<div>\n",
              "<style scoped>\n",
              "    .dataframe tbody tr th:only-of-type {\n",
              "        vertical-align: middle;\n",
              "    }\n",
              "\n",
              "    .dataframe tbody tr th {\n",
              "        vertical-align: top;\n",
              "    }\n",
              "\n",
              "    .dataframe thead th {\n",
              "        text-align: right;\n",
              "    }\n",
              "</style>\n",
              "<table border=\"1\" class=\"dataframe\">\n",
              "  <thead>\n",
              "    <tr style=\"text-align: right;\">\n",
              "      <th></th>\n",
              "      <th>Words</th>\n",
              "      <th>Freq</th>\n",
              "    </tr>\n",
              "  </thead>\n",
              "  <tbody>\n",
              "    <tr>\n",
              "      <th>0</th>\n",
              "      <td>car</td>\n",
              "      <td>1388</td>\n",
              "    </tr>\n",
              "    <tr>\n",
              "      <th>1</th>\n",
              "      <td>hector</td>\n",
              "      <td>1360</td>\n",
              "    </tr>\n",
              "    <tr>\n",
              "      <th>2</th>\n",
              "      <td>mg</td>\n",
              "      <td>1294</td>\n",
              "    </tr>\n",
              "    <tr>\n",
              "      <th>3</th>\n",
              "      <td>diesel</td>\n",
              "      <td>568</td>\n",
              "    </tr>\n",
              "    <tr>\n",
              "      <th>4</th>\n",
              "      <td>petrol</td>\n",
              "      <td>511</td>\n",
              "    </tr>\n",
              "  </tbody>\n",
              "</table>\n",
              "</div>"
            ],
            "text/plain": [
              "    Words  Freq\n",
              "0     car  1388\n",
              "1  hector  1360\n",
              "2      mg  1294\n",
              "3  diesel   568\n",
              "4  petrol   511"
            ]
          },
          "metadata": {
            "tags": []
          },
          "execution_count": 53
        }
      ]
    },
    {
      "cell_type": "markdown",
      "metadata": {
        "id": "moscFCR5cpNz",
        "colab_type": "text"
      },
      "source": [
        "# Visualising Frequency Chart"
      ]
    },
    {
      "cell_type": "code",
      "metadata": {
        "id": "DAx8QEFnIrMe",
        "colab_type": "code",
        "outputId": "f559cd68-9ad1-4434-d0fb-374212dbce11",
        "colab": {
          "base_uri": "https://localhost:8080/",
          "height": 595
        }
      },
      "source": [
        "fig,ax = plt.subplots(figsize=(15,10))\n",
        "freq_word_df.sort_values(by='Freq').plot.barh(x='Words',y='Freq',ax=ax,color = \"green\")\n",
        "plt.show();"
      ],
      "execution_count": 54,
      "outputs": [
        {
          "output_type": "display_data",
          "data": {
            "image/png": "[encoded data removed]",
            "text/plain": [
              "<Figure size 1080x720 with 1 Axes>"
            ]
          },
          "metadata": {
            "tags": []
          }
        }
      ]
    },
    {
      "cell_type": "markdown",
      "metadata": {
        "id": "JKF1KrojWU1w",
        "colab_type": "text"
      },
      "source": [
        "#Unsupervised Sentiment Analyis using Text Blob"
      ]
    },
    {
      "cell_type": "code",
      "metadata": {
        "id": "xZ2fEMR8WK0J",
        "colab_type": "code",
        "outputId": "41606204-c538-4dd8-8501-39b6baeae5c3",
        "colab": {
          "base_uri": "https://localhost:8080/",
          "height": 51
        }
      },
      "source": [
        "from textblob import TextBlob\n",
        "sentiment_text=[TextBlob(review) for review in corpus]\n",
        "print(sentiment_text[0].polarity)\n",
        "print(sentiment_text[0])"
      ],
      "execution_count": 55,
      "outputs": [
        {
          "output_type": "stream",
          "text": [
            "0.2\n",
            "blackwasp thanks automobiles encyclopedia sending images seen quite times city never got chance click picture seems quite imposing though\n"
          ],
          "name": "stdout"
        }
      ]
    },
    {
      "cell_type": "markdown",
      "metadata": {
        "id": "dPvG-OrqdISL",
        "colab_type": "text"
      },
      "source": [
        "# Getting Polarity Scores of Each Reviews"
      ]
    },
    {
      "cell_type": "code",
      "metadata": {
        "id": "Uq8eYC-5W2OF",
        "colab_type": "code",
        "outputId": "045b14de-e47b-4016-e460-41ea1cb99ce4",
        "colab": {
          "base_uri": "https://localhost:8080/",
          "height": 1000
        }
      },
      "source": [
        "sentiments = [[review.sentiment.polarity,str(review)] for review in sentiment_text]\n",
        "sentiment_df = pd.DataFrame(sentiments, columns=['polarity','review'])\n",
        "sentiment_df.sort_values(by='polarity',ascending=False)"
      ],
      "execution_count": 56,
      "outputs": [
        {
          "output_type": "execute_result",
          "data": {
            "text/html": [
              "<div>\n",
              "<style scoped>\n",
              "    .dataframe tbody tr th:only-of-type {\n",
              "        vertical-align: middle;\n",
              "    }\n",
              "\n",
              "    .dataframe tbody tr th {\n",
              "        vertical-align: top;\n",
              "    }\n",
              "\n",
              "    .dataframe thead th {\n",
              "        text-align: right;\n",
              "    }\n",
              "</style>\n",
              "<table border=\"1\" class=\"dataframe\">\n",
              "  <thead>\n",
              "    <tr style=\"text-align: right;\">\n",
              "      <th></th>\n",
              "      <th>polarity</th>\n",
              "      <th>review</th>\n",
              "    </tr>\n",
              "  </thead>\n",
              "  <tbody>\n",
              "    <tr>\n",
              "      <th>600</th>\n",
              "      <td>0.800000</td>\n",
              "      <td>gent announced price repeatedly mentioned stri...</td>\n",
              "    </tr>\n",
              "    <tr>\n",
              "      <th>689</th>\n",
              "      <td>0.800000</td>\n",
              "      <td>brochure lists proud history reinforces custom...</td>\n",
              "    </tr>\n",
              "    <tr>\n",
              "      <th>596</th>\n",
              "      <td>0.700000</td>\n",
              "      <td>superb pricing mg hector comes mg shield year ...</td>\n",
              "    </tr>\n",
              "    <tr>\n",
              "      <th>698</th>\n",
              "      <td>0.700000</td>\n",
              "      <td>monsoon forget diesel auto version harrier tat...</td>\n",
              "    </tr>\n",
              "    <tr>\n",
              "      <th>17</th>\n",
              "      <td>0.700000</td>\n",
              "      <td>thats good move people subscribe car months buy</td>\n",
              "    </tr>\n",
              "    <tr>\n",
              "      <th>1359</th>\n",
              "      <td>0.700000</td>\n",
              "      <td>good petrol engines expect hike k k maruti hyu...</td>\n",
              "    </tr>\n",
              "    <tr>\n",
              "      <th>537</th>\n",
              "      <td>0.700000</td>\n",
              "      <td>went mg test drive time rohini showroom delhi ...</td>\n",
              "    </tr>\n",
              "    <tr>\n",
              "      <th>187</th>\n",
              "      <td>0.700000</td>\n",
              "      <td>good petrol engines expect hike k k maruti hyu...</td>\n",
              "    </tr>\n",
              "    <tr>\n",
              "      <th>115</th>\n",
              "      <td>0.700000</td>\n",
              "      <td>keeping prospective buyer waiting months brand...</td>\n",
              "    </tr>\n",
              "    <tr>\n",
              "      <th>621</th>\n",
              "      <td>0.633333</td>\n",
              "      <td>looks mg hector everything favour good looks g...</td>\n",
              "    </tr>\n",
              "    <tr>\n",
              "      <th>330</th>\n",
              "      <td>0.600000</td>\n",
              "      <td>saw flesh huge road presence great alternative...</td>\n",
              "    </tr>\n",
              "    <tr>\n",
              "      <th>1502</th>\n",
              "      <td>0.600000</td>\n",
              "      <td>saw flesh huge road presence great alternative...</td>\n",
              "    </tr>\n",
              "    <tr>\n",
              "      <th>827</th>\n",
              "      <td>0.600000</td>\n",
              "      <td>vsrivatsa attachment good year tires l given u...</td>\n",
              "    </tr>\n",
              "    <tr>\n",
              "      <th>34</th>\n",
              "      <td>0.600000</td>\n",
              "      <td>look nice modded inch forged incubus alloy whe...</td>\n",
              "    </tr>\n",
              "    <tr>\n",
              "      <th>7</th>\n",
              "      <td>0.600000</td>\n",
              "      <td>calling captiva india suicide given captiva hi...</td>\n",
              "    </tr>\n",
              "    <tr>\n",
              "      <th>21</th>\n",
              "      <td>0.600000</td>\n",
              "      <td>carandbike tweet svp panoramic sunroof mg vect...</td>\n",
              "    </tr>\n",
              "    <tr>\n",
              "      <th>828</th>\n",
              "      <td>0.566667</td>\n",
              "      <td>ajmat given understand top end variants come c...</td>\n",
              "    </tr>\n",
              "    <tr>\n",
              "      <th>557</th>\n",
              "      <td>0.566667</td>\n",
              "      <td>nishsingh wife test drive car blown away marke...</td>\n",
              "    </tr>\n",
              "    <tr>\n",
              "      <th>595</th>\n",
              "      <td>0.560000</td>\n",
              "      <td>superb pricing priced par harrier offering fea...</td>\n",
              "    </tr>\n",
              "    <tr>\n",
              "      <th>609</th>\n",
              "      <td>0.550000</td>\n",
              "      <td>excellent pricing mg make big impact segment m...</td>\n",
              "    </tr>\n",
              "    <tr>\n",
              "      <th>668</th>\n",
              "      <td>0.533333</td>\n",
              "      <td>brilliant pricing strategy mg even though pers...</td>\n",
              "    </tr>\n",
              "    <tr>\n",
              "      <th>911</th>\n",
              "      <td>0.525000</td>\n",
              "      <td>steeroid apologies rant worries people country...</td>\n",
              "    </tr>\n",
              "    <tr>\n",
              "      <th>910</th>\n",
              "      <td>0.525000</td>\n",
              "      <td>steeroid apologies rant worries people country...</td>\n",
              "    </tr>\n",
              "    <tr>\n",
              "      <th>1003</th>\n",
              "      <td>0.525000</td>\n",
              "      <td>steeroid apologies rant worries people country...</td>\n",
              "    </tr>\n",
              "    <tr>\n",
              "      <th>912</th>\n",
              "      <td>0.525000</td>\n",
              "      <td>steeroid apologies rant worries people country...</td>\n",
              "    </tr>\n",
              "    <tr>\n",
              "      <th>1006</th>\n",
              "      <td>0.525000</td>\n",
              "      <td>apologies rant worries people country going ga...</td>\n",
              "    </tr>\n",
              "    <tr>\n",
              "      <th>916</th>\n",
              "      <td>0.525000</td>\n",
              "      <td>apologies rant worries people country going ga...</td>\n",
              "    </tr>\n",
              "    <tr>\n",
              "      <th>998</th>\n",
              "      <td>0.525000</td>\n",
              "      <td>steeroid apologies rant worries people country...</td>\n",
              "    </tr>\n",
              "    <tr>\n",
              "      <th>1001</th>\n",
              "      <td>0.525000</td>\n",
              "      <td>steeroid apologies rant worries people country...</td>\n",
              "    </tr>\n",
              "    <tr>\n",
              "      <th>1002</th>\n",
              "      <td>0.525000</td>\n",
              "      <td>steeroid apologies rant worries people country...</td>\n",
              "    </tr>\n",
              "    <tr>\n",
              "      <th>...</th>\n",
              "      <td>...</td>\n",
              "      <td>...</td>\n",
              "    </tr>\n",
              "    <tr>\n",
              "      <th>1533</th>\n",
              "      <td>-0.250000</td>\n",
              "      <td>picture must genuine nikhilthegunner legitimat...</td>\n",
              "    </tr>\n",
              "    <tr>\n",
              "      <th>319</th>\n",
              "      <td>-0.250000</td>\n",
              "      <td>coolkurt congratulations handling charges disg...</td>\n",
              "    </tr>\n",
              "    <tr>\n",
              "      <th>747</th>\n",
              "      <td>-0.250000</td>\n",
              "      <td>nsbhagwat different baojun donor vehicle hecto...</td>\n",
              "    </tr>\n",
              "    <tr>\n",
              "      <th>1281</th>\n",
              "      <td>-0.250000</td>\n",
              "      <td>coolkurt congratulations handling charges disg...</td>\n",
              "    </tr>\n",
              "    <tr>\n",
              "      <th>1491</th>\n",
              "      <td>-0.250000</td>\n",
              "      <td>coolkurt congratulations handling charges disg...</td>\n",
              "    </tr>\n",
              "    <tr>\n",
              "      <th>361</th>\n",
              "      <td>-0.250000</td>\n",
              "      <td>picture must genuine nikhilthegunner legitimat...</td>\n",
              "    </tr>\n",
              "    <tr>\n",
              "      <th>1224</th>\n",
              "      <td>-0.250000</td>\n",
              "      <td>blackwasp unable open error saying damaged una...</td>\n",
              "    </tr>\n",
              "    <tr>\n",
              "      <th>247</th>\n",
              "      <td>-0.269444</td>\n",
              "      <td>thanks update agwagon disappointing learn x mi...</td>\n",
              "    </tr>\n",
              "    <tr>\n",
              "      <th>1419</th>\n",
              "      <td>-0.269444</td>\n",
              "      <td>thanks update agwagon disappointing learn x mi...</td>\n",
              "    </tr>\n",
              "    <tr>\n",
              "      <th>359</th>\n",
              "      <td>-0.273333</td>\n",
              "      <td>sebring leather coming steering opened found s...</td>\n",
              "    </tr>\n",
              "    <tr>\n",
              "      <th>1531</th>\n",
              "      <td>-0.273333</td>\n",
              "      <td>sebring leather coming steering opened found s...</td>\n",
              "    </tr>\n",
              "    <tr>\n",
              "      <th>977</th>\n",
              "      <td>-0.300000</td>\n",
              "      <td>last edited crazy driver th july reason requested</td>\n",
              "    </tr>\n",
              "    <tr>\n",
              "      <th>976</th>\n",
              "      <td>-0.300000</td>\n",
              "      <td>last edited crazy driver th july reason requested</td>\n",
              "    </tr>\n",
              "    <tr>\n",
              "      <th>499</th>\n",
              "      <td>-0.302381</td>\n",
              "      <td>simeonovitch msil doesnt make bad handling car...</td>\n",
              "    </tr>\n",
              "    <tr>\n",
              "      <th>1293</th>\n",
              "      <td>-0.305556</td>\n",
              "      <td>wheelguy mg hector owners group powered tailga...</td>\n",
              "    </tr>\n",
              "    <tr>\n",
              "      <th>1111</th>\n",
              "      <td>-0.325000</td>\n",
              "      <td>afraid whether board front service center soon...</td>\n",
              "    </tr>\n",
              "    <tr>\n",
              "      <th>504</th>\n",
              "      <td>-0.347143</td>\n",
              "      <td>ankur fox expressed others thread response lag...</td>\n",
              "    </tr>\n",
              "    <tr>\n",
              "      <th>324</th>\n",
              "      <td>-0.366667</td>\n",
              "      <td>sharninder seltos hector guy bought sorry bad ...</td>\n",
              "    </tr>\n",
              "    <tr>\n",
              "      <th>1496</th>\n",
              "      <td>-0.366667</td>\n",
              "      <td>sharninder seltos hector guy bought sorry bad ...</td>\n",
              "    </tr>\n",
              "    <tr>\n",
              "      <th>1286</th>\n",
              "      <td>-0.366667</td>\n",
              "      <td>sharninder seltos hector guy bought sorry bad ...</td>\n",
              "    </tr>\n",
              "    <tr>\n",
              "      <th>1120</th>\n",
              "      <td>-0.393333</td>\n",
              "      <td>sreejinair dont go paid reviews anyone doesnt ...</td>\n",
              "    </tr>\n",
              "    <tr>\n",
              "      <th>1304</th>\n",
              "      <td>-0.400000</td>\n",
              "      <td>finally mg xuv way creating artificial shortag...</td>\n",
              "    </tr>\n",
              "    <tr>\n",
              "      <th>135</th>\n",
              "      <td>-0.400000</td>\n",
              "      <td>owners mg hector understanding parking vehicle...</td>\n",
              "    </tr>\n",
              "    <tr>\n",
              "      <th>1307</th>\n",
              "      <td>-0.400000</td>\n",
              "      <td>owners mg hector understanding parking vehicle...</td>\n",
              "    </tr>\n",
              "    <tr>\n",
              "      <th>1459</th>\n",
              "      <td>-0.500000</td>\n",
              "      <td>sreejinair bought used car yesterday sedan got...</td>\n",
              "    </tr>\n",
              "    <tr>\n",
              "      <th>492</th>\n",
              "      <td>-0.500000</td>\n",
              "      <td>swiftlife concern people end buying vehicle ch...</td>\n",
              "    </tr>\n",
              "    <tr>\n",
              "      <th>287</th>\n",
              "      <td>-0.500000</td>\n",
              "      <td>sreejinair bought used car yesterday sedan got...</td>\n",
              "    </tr>\n",
              "    <tr>\n",
              "      <th>941</th>\n",
              "      <td>-0.600000</td>\n",
              "      <td>crazy driver</td>\n",
              "    </tr>\n",
              "    <tr>\n",
              "      <th>1188</th>\n",
              "      <td>-0.600000</td>\n",
              "      <td>asish vk meanwhile kerala selling lakh profit ...</td>\n",
              "    </tr>\n",
              "    <tr>\n",
              "      <th>940</th>\n",
              "      <td>-0.600000</td>\n",
              "      <td>crazy driver</td>\n",
              "    </tr>\n",
              "  </tbody>\n",
              "</table>\n",
              "<p>1623 rows × 2 columns</p>\n",
              "</div>"
            ],
            "text/plain": [
              "      polarity                                             review\n",
              "600   0.800000  gent announced price repeatedly mentioned stri...\n",
              "689   0.800000  brochure lists proud history reinforces custom...\n",
              "596   0.700000  superb pricing mg hector comes mg shield year ...\n",
              "698   0.700000  monsoon forget diesel auto version harrier tat...\n",
              "17    0.700000    thats good move people subscribe car months buy\n",
              "1359  0.700000  good petrol engines expect hike k k maruti hyu...\n",
              "537   0.700000  went mg test drive time rohini showroom delhi ...\n",
              "187   0.700000  good petrol engines expect hike k k maruti hyu...\n",
              "115   0.700000  keeping prospective buyer waiting months brand...\n",
              "621   0.633333  looks mg hector everything favour good looks g...\n",
              "330   0.600000  saw flesh huge road presence great alternative...\n",
              "1502  0.600000  saw flesh huge road presence great alternative...\n",
              "827   0.600000  vsrivatsa attachment good year tires l given u...\n",
              "34    0.600000  look nice modded inch forged incubus alloy whe...\n",
              "7     0.600000  calling captiva india suicide given captiva hi...\n",
              "21    0.600000  carandbike tweet svp panoramic sunroof mg vect...\n",
              "828   0.566667  ajmat given understand top end variants come c...\n",
              "557   0.566667  nishsingh wife test drive car blown away marke...\n",
              "595   0.560000  superb pricing priced par harrier offering fea...\n",
              "609   0.550000  excellent pricing mg make big impact segment m...\n",
              "668   0.533333  brilliant pricing strategy mg even though pers...\n",
              "911   0.525000  steeroid apologies rant worries people country...\n",
              "910   0.525000  steeroid apologies rant worries people country...\n",
              "1003  0.525000  steeroid apologies rant worries people country...\n",
              "912   0.525000  steeroid apologies rant worries people country...\n",
              "1006  0.525000  apologies rant worries people country going ga...\n",
              "916   0.525000  apologies rant worries people country going ga...\n",
              "998   0.525000  steeroid apologies rant worries people country...\n",
              "1001  0.525000  steeroid apologies rant worries people country...\n",
              "1002  0.525000  steeroid apologies rant worries people country...\n",
              "...        ...                                                ...\n",
              "1533 -0.250000  picture must genuine nikhilthegunner legitimat...\n",
              "319  -0.250000  coolkurt congratulations handling charges disg...\n",
              "747  -0.250000  nsbhagwat different baojun donor vehicle hecto...\n",
              "1281 -0.250000  coolkurt congratulations handling charges disg...\n",
              "1491 -0.250000  coolkurt congratulations handling charges disg...\n",
              "361  -0.250000  picture must genuine nikhilthegunner legitimat...\n",
              "1224 -0.250000  blackwasp unable open error saying damaged una...\n",
              "247  -0.269444  thanks update agwagon disappointing learn x mi...\n",
              "1419 -0.269444  thanks update agwagon disappointing learn x mi...\n",
              "359  -0.273333  sebring leather coming steering opened found s...\n",
              "1531 -0.273333  sebring leather coming steering opened found s...\n",
              "977  -0.300000  last edited crazy driver th july reason requested\n",
              "976  -0.300000  last edited crazy driver th july reason requested\n",
              "499  -0.302381  simeonovitch msil doesnt make bad handling car...\n",
              "1293 -0.305556  wheelguy mg hector owners group powered tailga...\n",
              "1111 -0.325000  afraid whether board front service center soon...\n",
              "504  -0.347143  ankur fox expressed others thread response lag...\n",
              "324  -0.366667  sharninder seltos hector guy bought sorry bad ...\n",
              "1496 -0.366667  sharninder seltos hector guy bought sorry bad ...\n",
              "1286 -0.366667  sharninder seltos hector guy bought sorry bad ...\n",
              "1120 -0.393333  sreejinair dont go paid reviews anyone doesnt ...\n",
              "1304 -0.400000  finally mg xuv way creating artificial shortag...\n",
              "135  -0.400000  owners mg hector understanding parking vehicle...\n",
              "1307 -0.400000  owners mg hector understanding parking vehicle...\n",
              "1459 -0.500000  sreejinair bought used car yesterday sedan got...\n",
              "492  -0.500000  swiftlife concern people end buying vehicle ch...\n",
              "287  -0.500000  sreejinair bought used car yesterday sedan got...\n",
              "941  -0.600000                                       crazy driver\n",
              "1188 -0.600000  asish vk meanwhile kerala selling lakh profit ...\n",
              "940  -0.600000                                       crazy driver\n",
              "\n",
              "[1623 rows x 2 columns]"
            ]
          },
          "metadata": {
            "tags": []
          },
          "execution_count": 56
        }
      ]
    },
    {
      "cell_type": "markdown",
      "metadata": {
        "id": "pN5qbXdOdftD",
        "colab_type": "text"
      },
      "source": [
        "# Plotting Sentiment Score Distribution"
      ]
    },
    {
      "cell_type": "code",
      "metadata": {
        "id": "u3T1wLygHem1",
        "colab_type": "code",
        "outputId": "9f0a1dbf-2a06-4df8-8044-7ceb43ee24af",
        "colab": {
          "base_uri": "https://localhost:8080/",
          "height": 607
        }
      },
      "source": [
        "fig,ax = plt.subplots(figsize=(15,10))\n",
        "sentiment_df.hist(bins=[-1,-0.75,-0.5,-0.25,0.25,0.5,0.75,1], ax=ax, color='orange')\n",
        "plt.title('Sentiments Distribution on reviews')\n",
        "plt.show()"
      ],
      "execution_count": 57,
      "outputs": [
        {
          "output_type": "display_data",
          "data": {
            "image/png": "[encoded data removed]",
            "text/plain": [
              "<Figure size 1080x720 with 1 Axes>"
            ]
          },
          "metadata": {
            "tags": []
          }
        }
      ]
    },
    {
      "cell_type": "markdown",
      "metadata": {
        "id": "78griTeTdpBj",
        "colab_type": "text"
      },
      "source": [
        "# Converting Sentiment Score into \"Positive\" if Score > 0.25 , \"Negative\" if Score < -0.25 and \"Neutral\" if Score between -0.25 to 0.25"
      ]
    },
    {
      "cell_type": "code",
      "metadata": {
        "id": "BN3OkU7HYAuf",
        "colab_type": "code",
        "colab": {}
      },
      "source": [
        "sentiment_df['Sentiment'] = sentiment_df['polarity'].apply(lambda score: 'positive' if score > 0.0 else ('negative' if score < 0.0 else 'neutral'))"
      ],
      "execution_count": 0,
      "outputs": []
    },
    {
      "cell_type": "code",
      "metadata": {
        "id": "mL4J72h2YJFi",
        "colab_type": "code",
        "outputId": "00b3fc89-c36c-4c13-dec5-0c9f3d4976bb",
        "colab": {
          "base_uri": "https://localhost:8080/",
          "height": 359
        }
      },
      "source": [
        "sentiment_df.head(10)"
      ],
      "execution_count": 59,
      "outputs": [
        {
          "output_type": "execute_result",
          "data": {
            "text/html": [
              "<div>\n",
              "<style scoped>\n",
              "    .dataframe tbody tr th:only-of-type {\n",
              "        vertical-align: middle;\n",
              "    }\n",
              "\n",
              "    .dataframe tbody tr th {\n",
              "        vertical-align: top;\n",
              "    }\n",
              "\n",
              "    .dataframe thead th {\n",
              "        text-align: right;\n",
              "    }\n",
              "</style>\n",
              "<table border=\"1\" class=\"dataframe\">\n",
              "  <thead>\n",
              "    <tr style=\"text-align: right;\">\n",
              "      <th></th>\n",
              "      <th>polarity</th>\n",
              "      <th>review</th>\n",
              "      <th>Sentiment</th>\n",
              "    </tr>\n",
              "  </thead>\n",
              "  <tbody>\n",
              "    <tr>\n",
              "      <th>0</th>\n",
              "      <td>0.200000</td>\n",
              "      <td>blackwasp thanks automobiles encyclopedia send...</td>\n",
              "      <td>positive</td>\n",
              "    </tr>\n",
              "    <tr>\n",
              "      <th>1</th>\n",
              "      <td>0.062500</td>\n",
              "      <td>happening names cars days first harrier hector...</td>\n",
              "      <td>positive</td>\n",
              "    </tr>\n",
              "    <tr>\n",
              "      <th>2</th>\n",
              "      <td>0.008750</td>\n",
              "      <td>blackwasp thanks automobiles encyclopedia send...</td>\n",
              "      <td>positive</td>\n",
              "    </tr>\n",
              "    <tr>\n",
              "      <th>3</th>\n",
              "      <td>0.341667</td>\n",
              "      <td>quickly googled hector baojun chevy captiva tr...</td>\n",
              "      <td>positive</td>\n",
              "    </tr>\n",
              "    <tr>\n",
              "      <th>4</th>\n",
              "      <td>0.294444</td>\n",
              "      <td>rovingeye quickly googled hector baojun chevy ...</td>\n",
              "      <td>positive</td>\n",
              "    </tr>\n",
              "    <tr>\n",
              "      <th>5</th>\n",
              "      <td>0.003333</td>\n",
              "      <td>capitva indeed rebadged baojun wuling similar ...</td>\n",
              "      <td>positive</td>\n",
              "    </tr>\n",
              "    <tr>\n",
              "      <th>6</th>\n",
              "      <td>0.027731</td>\n",
              "      <td>vipul singh capitva indeed rebadged baojun wul...</td>\n",
              "      <td>positive</td>\n",
              "    </tr>\n",
              "    <tr>\n",
              "      <th>7</th>\n",
              "      <td>0.600000</td>\n",
              "      <td>calling captiva india suicide given captiva hi...</td>\n",
              "      <td>positive</td>\n",
              "    </tr>\n",
              "    <tr>\n",
              "      <th>8</th>\n",
              "      <td>0.000000</td>\n",
              "      <td>mg woo indians guns blazing check videos youtu...</td>\n",
              "      <td>neutral</td>\n",
              "    </tr>\n",
              "    <tr>\n",
              "      <th>9</th>\n",
              "      <td>0.000000</td>\n",
              "      <td>rovingeye mg woo indians guns blazing btw idea...</td>\n",
              "      <td>neutral</td>\n",
              "    </tr>\n",
              "  </tbody>\n",
              "</table>\n",
              "</div>"
            ],
            "text/plain": [
              "   polarity                                             review Sentiment\n",
              "0  0.200000  blackwasp thanks automobiles encyclopedia send...  positive\n",
              "1  0.062500  happening names cars days first harrier hector...  positive\n",
              "2  0.008750  blackwasp thanks automobiles encyclopedia send...  positive\n",
              "3  0.341667  quickly googled hector baojun chevy captiva tr...  positive\n",
              "4  0.294444  rovingeye quickly googled hector baojun chevy ...  positive\n",
              "5  0.003333  capitva indeed rebadged baojun wuling similar ...  positive\n",
              "6  0.027731  vipul singh capitva indeed rebadged baojun wul...  positive\n",
              "7  0.600000  calling captiva india suicide given captiva hi...  positive\n",
              "8  0.000000  mg woo indians guns blazing check videos youtu...   neutral\n",
              "9  0.000000  rovingeye mg woo indians guns blazing btw idea...   neutral"
            ]
          },
          "metadata": {
            "tags": []
          },
          "execution_count": 59
        }
      ]
    },
    {
      "cell_type": "code",
      "metadata": {
        "id": "9bVvvIp7gp4H",
        "colab_type": "code",
        "colab": {
          "base_uri": "https://localhost:8080/",
          "height": 34
        },
        "outputId": "42ea6121-f19c-4b49-9d45-47caabed91f4"
      },
      "source": [
        "sentiment_df.shape"
      ],
      "execution_count": 60,
      "outputs": [
        {
          "output_type": "execute_result",
          "data": {
            "text/plain": [
              "(1623, 3)"
            ]
          },
          "metadata": {
            "tags": []
          },
          "execution_count": 60
        }
      ]
    },
    {
      "cell_type": "markdown",
      "metadata": {
        "id": "qPK6fE3QeMpQ",
        "colab_type": "text"
      },
      "source": [
        "# Supervised SVC model for Classifying Postive,Negative and Neutal"
      ]
    },
    {
      "cell_type": "code",
      "metadata": {
        "id": "8cdp4Rx0YQTj",
        "colab_type": "code",
        "colab": {}
      },
      "source": [
        "# importing train and test splitting for model creation\n",
        "from sklearn.model_selection import train_test_split"
      ],
      "execution_count": 0,
      "outputs": []
    },
    {
      "cell_type": "markdown",
      "metadata": {
        "id": "0mKybVw_eqoH",
        "colab_type": "text"
      },
      "source": [
        "# Spltting X as \"Review\" and y as \"Sentiment\""
      ]
    },
    {
      "cell_type": "code",
      "metadata": {
        "id": "D_lOoz5mY51n",
        "colab_type": "code",
        "colab": {}
      },
      "source": [
        "X = sentiment_df['review']\n",
        "y = sentiment_df['Sentiment']"
      ],
      "execution_count": 0,
      "outputs": []
    },
    {
      "cell_type": "code",
      "metadata": {
        "id": "mXaWfEReZNk2",
        "colab_type": "code",
        "outputId": "a25f5402-d7c8-4113-9676-11561234ef13",
        "colab": {
          "base_uri": "https://localhost:8080/",
          "height": 34
        }
      },
      "source": [
        "X.shape\n",
        "y.shape"
      ],
      "execution_count": 63,
      "outputs": [
        {
          "output_type": "execute_result",
          "data": {
            "text/plain": [
              "(1623,)"
            ]
          },
          "metadata": {
            "tags": []
          },
          "execution_count": 63
        }
      ]
    },
    {
      "cell_type": "markdown",
      "metadata": {
        "id": "iXAIAx7se4eC",
        "colab_type": "text"
      },
      "source": [
        "# Train and Test Split with 70 % data on Training set and 30 % data on Test Set"
      ]
    },
    {
      "cell_type": "code",
      "metadata": {
        "id": "IBjA-jvqZ23S",
        "colab_type": "code",
        "colab": {}
      },
      "source": [
        "X_train,X_test,y_train,y_test = train_test_split(X,y,test_size=0.3,random_state=42)"
      ],
      "execution_count": 0,
      "outputs": []
    },
    {
      "cell_type": "markdown",
      "metadata": {
        "id": "0GaOblwSfHza",
        "colab_type": "text"
      },
      "source": [
        "# Importing Pipeline object to execute multiple classifyier\n",
        "\n",
        "# Importing Tfidf Vectorizer\n",
        "\n",
        "# Importing Linear SVC for classification"
      ]
    },
    {
      "cell_type": "code",
      "metadata": {
        "id": "CW_dh6SjZs40",
        "colab_type": "code",
        "colab": {}
      },
      "source": [
        "from sklearn.pipeline import Pipeline\n",
        "from sklearn.feature_extraction.text import TfidfVectorizer\n",
        "from sklearn.svm import LinearSVC"
      ],
      "execution_count": 0,
      "outputs": []
    },
    {
      "cell_type": "code",
      "metadata": {
        "id": "FgD6YJkhZ_SW",
        "colab_type": "code",
        "colab": {}
      },
      "source": [
        "text_clf = Pipeline([('tfidf',TfidfVectorizer()),\n",
        "                    ('clf',LinearSVC())])"
      ],
      "execution_count": 0,
      "outputs": []
    },
    {
      "cell_type": "markdown",
      "metadata": {
        "id": "YTrUoFdhfqDM",
        "colab_type": "text"
      },
      "source": [
        "# Fit Training data"
      ]
    },
    {
      "cell_type": "code",
      "metadata": {
        "id": "z7dxu3osaQh-",
        "colab_type": "code",
        "outputId": "26e932e3-acf6-4769-bb7a-545f28fe4a12",
        "colab": {
          "base_uri": "https://localhost:8080/",
          "height": 374
        }
      },
      "source": [
        "text_clf.fit(X_train,y_train)"
      ],
      "execution_count": 68,
      "outputs": [
        {
          "output_type": "execute_result",
          "data": {
            "text/plain": [
              "Pipeline(memory=None,\n",
              "         steps=[('tfidf',\n",
              "                 TfidfVectorizer(analyzer='word', binary=False,\n",
              "                                 decode_error='strict',\n",
              "                                 dtype=<class 'numpy.float64'>,\n",
              "                                 encoding='utf-8', input='content',\n",
              "                                 lowercase=True, max_df=1.0, max_features=None,\n",
              "                                 min_df=1, ngram_range=(1, 1), norm='l2',\n",
              "                                 preprocessor=None, smooth_idf=True,\n",
              "                                 stop_words=None, strip_accents=None,\n",
              "                                 sublinear_tf=False,\n",
              "                                 token_pattern='(?u)\\\\b\\\\w\\\\w+\\\\b',\n",
              "                                 tokenizer=None, use_idf=True,\n",
              "                                 vocabulary=None)),\n",
              "                ('clf',\n",
              "                 LinearSVC(C=1.0, class_weight=None, dual=True,\n",
              "                           fit_intercept=True, intercept_scaling=1,\n",
              "                           loss='squared_hinge', max_iter=1000,\n",
              "                           multi_class='ovr', penalty='l2', random_state=None,\n",
              "                           tol=0.0001, verbose=0))],\n",
              "         verbose=False)"
            ]
          },
          "metadata": {
            "tags": []
          },
          "execution_count": 68
        }
      ]
    },
    {
      "cell_type": "markdown",
      "metadata": {
        "id": "sHHkpc9QfuCr",
        "colab_type": "text"
      },
      "source": [
        "# Predicting Test data"
      ]
    },
    {
      "cell_type": "code",
      "metadata": {
        "id": "9sTi-Bzqaa7Z",
        "colab_type": "code",
        "colab": {}
      },
      "source": [
        "predictions = text_clf.predict(X_test)"
      ],
      "execution_count": 0,
      "outputs": []
    },
    {
      "cell_type": "markdown",
      "metadata": {
        "id": "K78kxyY1fzCw",
        "colab_type": "text"
      },
      "source": [
        "# Evaluvation"
      ]
    },
    {
      "cell_type": "code",
      "metadata": {
        "id": "FnAlXqSUao6-",
        "colab_type": "code",
        "colab": {}
      },
      "source": [
        "from sklearn.metrics import accuracy_score,classification_report,confusion_matrix"
      ],
      "execution_count": 0,
      "outputs": []
    },
    {
      "cell_type": "markdown",
      "metadata": {
        "id": "xkWf9SbMf3GB",
        "colab_type": "text"
      },
      "source": [
        "# Confusion Metrics"
      ]
    },
    {
      "cell_type": "code",
      "metadata": {
        "id": "8ktP0J9xa1o_",
        "colab_type": "code",
        "outputId": "5f552c51-975a-4397-ccb4-a6c9cc3b35d1",
        "colab": {
          "base_uri": "https://localhost:8080/",
          "height": 187
        }
      },
      "source": [
        "print(classification_report(y_test,predictions))"
      ],
      "execution_count": 71,
      "outputs": [
        {
          "output_type": "stream",
          "text": [
            "              precision    recall  f1-score   support\n",
            "\n",
            "    negative       0.89      0.57      0.69        74\n",
            "     neutral       0.71      0.67      0.69        36\n",
            "    positive       0.90      0.97      0.93       377\n",
            "\n",
            "    accuracy                           0.88       487\n",
            "   macro avg       0.83      0.73      0.77       487\n",
            "weighted avg       0.88      0.88      0.88       487\n",
            "\n"
          ],
          "name": "stdout"
        }
      ]
    },
    {
      "cell_type": "markdown",
      "metadata": {
        "id": "axVOFK0Xf61s",
        "colab_type": "text"
      },
      "source": [
        "# Accuracy Score"
      ]
    },
    {
      "cell_type": "code",
      "metadata": {
        "id": "foWzUucAbDw0",
        "colab_type": "code",
        "outputId": "c4d94033-6e56-4575-ce1b-2fb2cedad2a5",
        "colab": {
          "base_uri": "https://localhost:8080/",
          "height": 34
        }
      },
      "source": [
        "accuracy_score(y_test,predictions)"
      ],
      "execution_count": 72,
      "outputs": [
        {
          "output_type": "execute_result",
          "data": {
            "text/plain": [
              "0.8829568788501027"
            ]
          },
          "metadata": {
            "tags": []
          },
          "execution_count": 72
        }
      ]
    }
  ]
}