{
  "nbformat": 4,
  "nbformat_minor": 0,
  "metadata": {
    "colab": {
      "name": "Unsupervised Approach to Classify Sentiments and Supervised Approach for Classification.ipynb",
      "provenance": [],
      "collapsed_sections": [],
      "include_colab_link": true
    },
    "kernelspec": {
      "name": "python3",
      "display_name": "Python 3"
    }
  },
  "cells": [
    {
      "cell_type": "markdown",
      "metadata": {
        "id": "view-in-github",
        "colab_type": "text"
      },
      "source": [
        "<a href=\"https://colab.research.google.com/github/sudeepmathew/Voice-Of-Customer/blob/sudeepmathew-VOC_LDA/Unsupervised_Approach_to_Classify_Sentiments_and_Supervised_Approach_for_Classification.ipynb\" target=\"_parent\"><img src=\"https://colab.research.google.com/assets/colab-badge.svg\" alt=\"Open In Colab\"/></a>"
      ]
    },
    {
      "cell_type": "markdown",
      "metadata": {
        "id": "k_YmIPHubWrB",
        "colab_type": "text"
      },
      "source": [
        "# Getting Data"
      ]
    },
    {
      "cell_type": "code",
      "metadata": {
        "id": "yTBfcuoo_xeU",
        "colab_type": "code",
        "outputId": "e0b9177d-e7a1-4412-87fc-d726382a3584",
        "colab": {
          "base_uri": "https://localhost:8080/"
        }
      },
      "source": [
        "from google.colab import drive\n",
        "drive.mount('/gdrive')"
      ],
      "execution_count": 0,
      "outputs": [
        {
          "output_type": "stream",
          "text": [
            "Drive already mounted at /gdrive; to attempt to forcibly remount, call drive.mount(\"/gdrive\", force_remount=True).\n"
          ],
          "name": "stdout"
        }
      ]
    },
    {
      "cell_type": "code",
      "metadata": {
        "id": "DyLVm2pCAS6Z",
        "colab_type": "code",
        "colab": {}
      },
      "source": [
        "#import nessassary packages\n",
        "import pandas as pd\n",
        "import numpy as np\n",
        "import pandas as pd\n",
        "import matplotlib.pyplot as plt \n",
        "import seaborn as sns\n",
        "import nltk\n",
        "from nltk import FreqDist\n",
        "import spacy"
      ],
      "execution_count": 0,
      "outputs": []
    },
    {
      "cell_type": "code",
      "metadata": {
        "id": "NDA5s21yAZYn",
        "colab_type": "code",
        "colab": {}
      },
      "source": [
        "data = pd.read_csv(\"/gdrive/My Drive/MGHectorComments.csv\")"
      ],
      "execution_count": 0,
      "outputs": []
    },
    {
      "cell_type": "markdown",
      "metadata": {
        "id": "MvTB5ggDB8Tm",
        "colab_type": "text"
      },
      "source": [
        "# Let's take a look in the data"
      ]
    },
    {
      "cell_type": "code",
      "metadata": {
        "id": "BtBQF3MYB1md",
        "colab_type": "code",
        "outputId": "acdf609a-ab82-4866-efb7-6d35564fe3ae",
        "colab": {
          "base_uri": "https://localhost:8080/",
          "height": 204
        }
      },
      "source": [
        "data.head()"
      ],
      "execution_count": 0,
      "outputs": [
        {
          "output_type": "execute_result",
          "data": {
            "text/html": [
              "<div>\n",
              "<style scoped>\n",
              "    .dataframe tbody tr th:only-of-type {\n",
              "        vertical-align: middle;\n",
              "    }\n",
              "\n",
              "    .dataframe tbody tr th {\n",
              "        vertical-align: top;\n",
              "    }\n",
              "\n",
              "    .dataframe thead th {\n",
              "        text-align: right;\n",
              "    }\n",
              "</style>\n",
              "<table border=\"1\" class=\"dataframe\">\n",
              "  <thead>\n",
              "    <tr style=\"text-align: right;\">\n",
              "      <th></th>\n",
              "      <th>selection1_name</th>\n",
              "    </tr>\n",
              "  </thead>\n",
              "  <tbody>\n",
              "    <tr>\n",
              "      <th>0</th>\n",
              "      <td>Quote:\\nOriginally Posted by blackwasp\\nThanks...</td>\n",
              "    </tr>\n",
              "    <tr>\n",
              "      <th>1</th>\n",
              "      <td>What's happening with the names of cars these ...</td>\n",
              "    </tr>\n",
              "    <tr>\n",
              "      <th>2</th>\n",
              "      <td>Quote:\\nOriginally Posted by blackwasp\\nThanks...</td>\n",
              "    </tr>\n",
              "    <tr>\n",
              "      <th>3</th>\n",
              "      <td>Just quickly Googled about this Hector/Baojun ...</td>\n",
              "    </tr>\n",
              "    <tr>\n",
              "      <th>4</th>\n",
              "      <td>Quote:\\nOriginally Posted by rovingeye\\nJust q...</td>\n",
              "    </tr>\n",
              "  </tbody>\n",
              "</table>\n",
              "</div>"
            ],
            "text/plain": [
              "                                     selection1_name\n",
              "0  Quote:\\nOriginally Posted by blackwasp\\nThanks...\n",
              "1  What's happening with the names of cars these ...\n",
              "2  Quote:\\nOriginally Posted by blackwasp\\nThanks...\n",
              "3  Just quickly Googled about this Hector/Baojun ...\n",
              "4  Quote:\\nOriginally Posted by rovingeye\\nJust q..."
            ]
          },
          "metadata": {
            "tags": []
          },
          "execution_count": 7
        }
      ]
    },
    {
      "cell_type": "code",
      "metadata": {
        "id": "6e4yk9pgB333",
        "colab_type": "code",
        "outputId": "2c86e90c-273a-4939-e4b1-54e0b2223747",
        "colab": {
          "base_uri": "https://localhost:8080/",
          "height": 34
        }
      },
      "source": [
        "data.shape"
      ],
      "execution_count": 0,
      "outputs": [
        {
          "output_type": "execute_result",
          "data": {
            "text/plain": [
              "(1623, 1)"
            ]
          },
          "metadata": {
            "tags": []
          },
          "execution_count": 23
        }
      ]
    },
    {
      "cell_type": "markdown",
      "metadata": {
        "id": "XVU3JKBrClQt",
        "colab_type": "text"
      },
      "source": [
        "# **Preprocessing Data**"
      ]
    },
    {
      "cell_type": "code",
      "metadata": {
        "id": "VjadWSXQB55Q",
        "colab_type": "code",
        "outputId": "824d597b-a4da-4fc4-84d8-98934b30fce6",
        "colab": {
          "base_uri": "https://localhost:8080/",
          "height": 153
        }
      },
      "source": [
        "nltk.download('wordnet') \n",
        "from nltk.stem.porter import PorterStemmer\n",
        "from nltk.stem.wordnet import WordNetLemmatizer\n",
        "lem = WordNetLemmatizer()\n",
        "stem = PorterStemmer()\n",
        "word = \"inversely\"\n",
        "print(\"stemming:\",stem.stem(word))\n",
        "print(\"lemmatization:\", lem.lemmatize(word, \"v\"))\n",
        "\n",
        "# Libraries for text preprocessing\n",
        "import re\n",
        "import nltk\n",
        "nltk.download('stopwords')\n",
        "from nltk.corpus import stopwords\n",
        "from nltk.stem.porter import PorterStemmer\n",
        "from nltk.tokenize import RegexpTokenizer\n",
        "nltk.download('wordnet') \n",
        "from nltk.stem.wordnet import WordNetLemmatizer"
      ],
      "execution_count": 0,
      "outputs": [
        {
          "output_type": "stream",
          "text": [
            "[nltk_data] Downloading package wordnet to /root/nltk_data...\n",
            "[nltk_data]   Unzipping corpora/wordnet.zip.\n",
            "stemming: invers\n",
            "lemmatization: inversely\n",
            "[nltk_data] Downloading package stopwords to /root/nltk_data...\n",
            "[nltk_data]   Unzipping corpora/stopwords.zip.\n",
            "[nltk_data] Downloading package wordnet to /root/nltk_data...\n",
            "[nltk_data]   Package wordnet is already up-to-date!\n"
          ],
          "name": "stdout"
        }
      ]
    },
    {
      "cell_type": "markdown",
      "metadata": {
        "id": "ip8KEsTcbh08",
        "colab_type": "text"
      },
      "source": [
        "# Creating a Custom Stop Words List and Removing stop Words from Reviews"
      ]
    },
    {
      "cell_type": "code",
      "metadata": {
        "id": "vk9ZffHvDlT_",
        "colab_type": "code",
        "colab": {}
      },
      "source": [
        "##Creating a list of stop words and adding custom stopwords\n",
        "stop_words = set(stopwords.words(\"english\"))\n",
        "##Creating a list of custom stopwords\n",
        "new_words = [\"using\", \"show\", \"result\", \"large\", \"also\", \"iv\", \"one\", \"two\", \"get\",\"like\",\"think\",\"new\",\"much\",\n",
        "             \"https\", \"previously\", \"shown\",\"quote\",\"originally\",\"posted\",\"post\",\"owner\",\"youtube\",\"www\",\"http\",\"would\"]\n",
        "stop_words = stop_words.union(new_words)"
      ],
      "execution_count": 0,
      "outputs": []
    },
    {
      "cell_type": "markdown",
      "metadata": {
        "id": "yeKaadE1bzxp",
        "colab_type": "text"
      },
      "source": [
        "# Creating a Corpus of Cleaned Reviews"
      ]
    },
    {
      "cell_type": "code",
      "metadata": {
        "id": "2MXDjPCZDoFH",
        "colab_type": "code",
        "colab": {}
      },
      "source": [
        "corpus = []\n",
        "for i in range(0, 892):\n",
        "    #Remove punctuations\n",
        "    text = re.sub('[^a-zA-Z]', ' ', data['selection1_name'][i])\n",
        "    \n",
        "    #Convert to lowercase\n",
        "    text = text.lower()\n",
        "    \n",
        "    #remove tags\n",
        "    text=re.sub(\"&lt;/?.*?&gt;\",\" &lt;&gt; \",text)\n",
        "    \n",
        "    # remove special characters and digits\n",
        "    text=re.sub(\"(\\\\d|\\\\W)+\",\" \",text)\n",
        "    \n",
        "    ##Convert to list from string\n",
        "    text = text.split()\n",
        "    \n",
        "    ##Stemming\n",
        "    ps=PorterStemmer()\n",
        "    #Lemmatisation\n",
        "    lem = WordNetLemmatizer()\n",
        "    text = [word for word in text if not word in  \n",
        "            stop_words] \n",
        "    text = \" \".join(text)\n",
        "    corpus.append(text)"
      ],
      "execution_count": 0,
      "outputs": []
    },
    {
      "cell_type": "code",
      "metadata": {
        "id": "QAF_7InJDtmm",
        "colab_type": "code",
        "outputId": "0427cced-ec8d-4bf7-921f-144e39da85b5",
        "colab": {
          "base_uri": "https://localhost:8080/",
          "height": 34
        }
      },
      "source": [
        "#View corpus item\n",
        "print(corpus[200])"
      ],
      "execution_count": 0,
      "outputs": [
        {
          "output_type": "stream",
          "text": [
            "another mg hector breakdown time reported hyderabad youtu vkzt cacwdm\n"
          ],
          "name": "stdout"
        }
      ]
    },
    {
      "cell_type": "markdown",
      "metadata": {
        "id": "9BZ0gaCHcAPf",
        "colab_type": "text"
      },
      "source": [
        "# Visualising in WordCloud"
      ]
    },
    {
      "cell_type": "code",
      "metadata": {
        "id": "2EUlwjvgEkzV",
        "colab_type": "code",
        "outputId": "675b0bac-e9d2-47df-f021-deaccb611649",
        "colab": {
          "base_uri": "https://localhost:8080/",
          "height": 236
        }
      },
      "source": [
        "|#Word cloud\n",
        "from os import path\n",
        "from PIL import Image\n",
        "from wordcloud import WordCloud, STOPWORDS, ImageColorGenerator\n",
        "import matplotlib.pyplot as plt\n",
        "% matplotlib inline\n",
        "wordcloud = WordCloud(\n",
        "                          background_color='white',\n",
        "                          stopwords=stop_words,\n",
        "                          max_words=100,\n",
        "                          max_font_size=50, \n",
        "                          random_state=42\n",
        "                         ).generate(str(corpus))\n",
        "print(wordcloud)\n",
        "fig = plt.figure(1)\n",
        "plt.imshow(wordcloud)\n",
        "plt.axis('off')\n",
        "plt.show()\n",
        "fig.savefig(\"word1.png\", dpi=900)"
      ],
      "execution_count": 0,
      "outputs": [
        {
          "output_type": "stream",
          "text": [
            "<wordcloud.wordcloud.WordCloud object at 0x7fc2a7b6cac8>\n"
          ],
          "name": "stdout"
        },
        {
          "output_type": "display_data",
          "data": {
            "image/png": "[encoded data removed]",
            "text/plain": [
              "<Figure size 432x288 with 1 Axes>"
            ]
          },
          "metadata": {
            "tags": []
          }
        }
      ]
    },
    {
      "cell_type": "code",
      "metadata": {
        "id": "ejw_vZGUFRB1",
        "colab_type": "code",
        "outputId": "874fb08a-9203-4f1f-aacc-47ac5c768796",
        "colab": {
          "base_uri": "https://localhost:8080/",
          "height": 34
        }
      },
      "source": [
        "len(corpus)"
      ],
      "execution_count": 0,
      "outputs": [
        {
          "output_type": "execute_result",
          "data": {
            "text/plain": [
              "892"
            ]
          },
          "metadata": {
            "tags": []
          },
          "execution_count": 22
        }
      ]
    },
    {
      "cell_type": "markdown",
      "metadata": {
        "id": "71u8T4iNcH5n",
        "colab_type": "text"
      },
      "source": [
        "# Creating Bag of Words"
      ]
    },
    {
      "cell_type": "code",
      "metadata": {
        "id": "-LwEUYo4GBZR",
        "colab_type": "code",
        "colab": {}
      },
      "source": [
        "bagofwords = []\n",
        "for i in range (0,892):\n",
        "  words =corpus[i].split()\n",
        "  bagofwords.append(words)"
      ],
      "execution_count": 0,
      "outputs": []
    },
    {
      "cell_type": "code",
      "metadata": {
        "id": "a0xKzGMJGcjv",
        "colab_type": "code",
        "outputId": "7b37bc97-b78d-437e-e801-3bf0fafa7c0e",
        "colab": {
          "base_uri": "https://localhost:8080/",
          "height": 54
        }
      },
      "source": [
        "#printing bag of word of 100th item in the list\n",
        "print(bagofwords[100])"
      ],
      "execution_count": 0,
      "outputs": [
        {
          "output_type": "stream",
          "text": [
            "['jailbird', 'fynix', 'mg', 'hector', 'club', 'india', 'fb', 'page', 'diesel', 'sharp', 'variant', 'lost', 'count', 'number', 'similar', 'posts', 'attachment', 'mods', 'please', 'remove', 'inappropriate', 'actually', 'found', 'person', 'car', 'saw', 'car', 'road', 'side', 'bonnet', 'open', 'added', 'smoke', 'burning', 'comment', 'people', 'found', 'registration', 'number', 'person', 'actual', 'confronted', 'acknowledged', 'saw', 'car', 'road', 'clicked', 'pics']\n"
          ],
          "name": "stdout"
        }
      ]
    },
    {
      "cell_type": "markdown",
      "metadata": {
        "id": "fHMxg5NWcNwH",
        "colab_type": "text"
      },
      "source": [
        "# Finding frequent Words from the Reviews"
      ]
    },
    {
      "cell_type": "code",
      "metadata": {
        "id": "zVRerHdiGq45",
        "colab_type": "code",
        "outputId": "e91cc4c7-4867-45ab-bd88-281f56a93f9b",
        "colab": {
          "base_uri": "https://localhost:8080/",
          "height": 425
        }
      },
      "source": [
        "import itertools\n",
        "import collections\n",
        "all_words = list(itertools.chain(*bagofwords))\n",
        "print(all_words[0:10])\n",
        "print()\n",
        "print('Most commonly occuring words and frequency\\n')\n",
        "word_freq = collections.Counter(all_words)\n",
        "word_freq.most_common(20)"
      ],
      "execution_count": 61,
      "outputs": [
        {
          "output_type": "stream",
          "text": [
            "['blackwasp', 'thanks', 'automobiles', 'encyclopedia', 'sending', 'images', 'seen', 'quite', 'times', 'city']\n",
            "\n",
            "Most commonly occuring words and frequency\n",
            "\n"
          ],
          "name": "stdout"
        },
        {
          "output_type": "execute_result",
          "data": {
            "text/plain": [
              "[('car', 825),\n",
              " ('hector', 797),\n",
              " ('mg', 789),\n",
              " ('diesel', 350),\n",
              " ('petrol', 309),\n",
              " ('well', 300),\n",
              " ('good', 283),\n",
              " ('cars', 281),\n",
              " ('even', 265),\n",
              " ('seltos', 256),\n",
              " ('harrier', 251),\n",
              " ('drive', 241),\n",
              " ('dct', 231),\n",
              " ('kmpl', 220),\n",
              " ('people', 209),\n",
              " ('price', 205),\n",
              " ('time', 190),\n",
              " ('going', 185),\n",
              " ('vehicle', 184),\n",
              " ('see', 183)]"
            ]
          },
          "metadata": {
            "tags": []
          },
          "execution_count": 61
        }
      ]
    },
    {
      "cell_type": "markdown",
      "metadata": {
        "id": "4XlmPe8jcYBh",
        "colab_type": "text"
      },
      "source": [
        "# Creating Data frame for Words and Frequency"
      ]
    },
    {
      "cell_type": "code",
      "metadata": {
        "id": "6Joy3BVvIesa",
        "colab_type": "code",
        "outputId": "43c7ec7e-7a71-49ae-e369-9dc4606a829b",
        "colab": {
          "base_uri": "https://localhost:8080/",
          "height": 204
        }
      },
      "source": [
        "freq_word_df = pd.DataFrame(word_freq.most_common(20), columns = ['Words','Freq'])\n",
        "freq_word_df.head()"
      ],
      "execution_count": 0,
      "outputs": [
        {
          "output_type": "execute_result",
          "data": {
            "text/html": [
              "<div>\n",
              "<style scoped>\n",
              "    .dataframe tbody tr th:only-of-type {\n",
              "        vertical-align: middle;\n",
              "    }\n",
              "\n",
              "    .dataframe tbody tr th {\n",
              "        vertical-align: top;\n",
              "    }\n",
              "\n",
              "    .dataframe thead th {\n",
              "        text-align: right;\n",
              "    }\n",
              "</style>\n",
              "<table border=\"1\" class=\"dataframe\">\n",
              "  <thead>\n",
              "    <tr style=\"text-align: right;\">\n",
              "      <th></th>\n",
              "      <th>Words</th>\n",
              "      <th>Freq</th>\n",
              "    </tr>\n",
              "  </thead>\n",
              "  <tbody>\n",
              "    <tr>\n",
              "      <th>0</th>\n",
              "      <td>car</td>\n",
              "      <td>825</td>\n",
              "    </tr>\n",
              "    <tr>\n",
              "      <th>1</th>\n",
              "      <td>hector</td>\n",
              "      <td>797</td>\n",
              "    </tr>\n",
              "    <tr>\n",
              "      <th>2</th>\n",
              "      <td>mg</td>\n",
              "      <td>789</td>\n",
              "    </tr>\n",
              "    <tr>\n",
              "      <th>3</th>\n",
              "      <td>diesel</td>\n",
              "      <td>350</td>\n",
              "    </tr>\n",
              "    <tr>\n",
              "      <th>4</th>\n",
              "      <td>petrol</td>\n",
              "      <td>309</td>\n",
              "    </tr>\n",
              "  </tbody>\n",
              "</table>\n",
              "</div>"
            ],
            "text/plain": [
              "    Words  Freq\n",
              "0     car   825\n",
              "1  hector   797\n",
              "2      mg   789\n",
              "3  diesel   350\n",
              "4  petrol   309"
            ]
          },
          "metadata": {
            "tags": []
          },
          "execution_count": 42
        }
      ]
    },
    {
      "cell_type": "markdown",
      "metadata": {
        "id": "moscFCR5cpNz",
        "colab_type": "text"
      },
      "source": [
        "# Visualising Frequency Chart"
      ]
    },
    {
      "cell_type": "code",
      "metadata": {
        "id": "DAx8QEFnIrMe",
        "colab_type": "code",
        "outputId": "acbf0b7b-184c-4e9e-fb3f-0384561af811",
        "colab": {
          "base_uri": "https://localhost:8080/",
          "height": 595
        }
      },
      "source": [
        "fig,ax = plt.subplots(figsize=(15,10))\n",
        "freq_word_df.sort_values(by='Freq').plot.barh(x='Words',y='Freq',ax=ax,color = \"green\")\n",
        "plt.show();"
      ],
      "execution_count": 0,
      "outputs": [
        {
          "output_type": "display_data",
          "data": {
            "image/png": "[encoded data removed]",
            "text/plain": [
              "<Figure size 1080x720 with 1 Axes>"
            ]
          },
          "metadata": {
            "tags": []
          }
        }
      ]
    },
    {
      "cell_type": "markdown",
      "metadata": {
        "id": "JKF1KrojWU1w",
        "colab_type": "text"
      },
      "source": [
        "#Unsupervised Sentiment Analyis using Text Blob"
      ]
    },
    {
      "cell_type": "code",
      "metadata": {
        "id": "xZ2fEMR8WK0J",
        "colab_type": "code",
        "outputId": "239d1d99-c003-4eef-f5ca-1bf78fbb0199",
        "colab": {
          "base_uri": "https://localhost:8080/",
          "height": 51
        }
      },
      "source": [
        "from textblob import TextBlob\n",
        "sentiment_text=[TextBlob(review) for review in corpus]\n",
        "print(sentiment_text[0].polarity)\n",
        "print(sentiment_text[0])"
      ],
      "execution_count": 0,
      "outputs": [
        {
          "output_type": "stream",
          "text": [
            "0.2\n",
            "blackwasp thanks automobiles encyclopedia sending images seen quite times city never got chance click picture seems quite imposing though\n"
          ],
          "name": "stdout"
        }
      ]
    },
    {
      "cell_type": "markdown",
      "metadata": {
        "id": "dPvG-OrqdISL",
        "colab_type": "text"
      },
      "source": [
        "# Getting Polarity Scores of Each Reviews"
      ]
    },
    {
      "cell_type": "code",
      "metadata": {
        "id": "Uq8eYC-5W2OF",
        "colab_type": "code",
        "outputId": "b869a822-5c86-46e7-8012-642ce47f5bfb",
        "colab": {
          "base_uri": "https://localhost:8080/",
          "height": 1000
        }
      },
      "source": [
        "sentiments = [[review.sentiment.polarity,str(review)] for review in sentiment_text]\n",
        "sentiment_df = pd.DataFrame(sentiments, columns=['polarity','review'])\n",
        "sentiment_df.sort_values(by='polarity',ascending=False)"
      ],
      "execution_count": 0,
      "outputs": [
        {
          "output_type": "execute_result",
          "data": {
            "text/html": [
              "<div>\n",
              "<style scoped>\n",
              "    .dataframe tbody tr th:only-of-type {\n",
              "        vertical-align: middle;\n",
              "    }\n",
              "\n",
              "    .dataframe tbody tr th {\n",
              "        vertical-align: top;\n",
              "    }\n",
              "\n",
              "    .dataframe thead th {\n",
              "        text-align: right;\n",
              "    }\n",
              "</style>\n",
              "<table border=\"1\" class=\"dataframe\">\n",
              "  <thead>\n",
              "    <tr style=\"text-align: right;\">\n",
              "      <th></th>\n",
              "      <th>polarity</th>\n",
              "      <th>review</th>\n",
              "    </tr>\n",
              "  </thead>\n",
              "  <tbody>\n",
              "    <tr>\n",
              "      <th>600</th>\n",
              "      <td>0.800000</td>\n",
              "      <td>gent announced price repeatedly mentioned stri...</td>\n",
              "    </tr>\n",
              "    <tr>\n",
              "      <th>689</th>\n",
              "      <td>0.800000</td>\n",
              "      <td>brochure lists proud history reinforces custom...</td>\n",
              "    </tr>\n",
              "    <tr>\n",
              "      <th>187</th>\n",
              "      <td>0.700000</td>\n",
              "      <td>good petrol engines expect hike k k maruti hyu...</td>\n",
              "    </tr>\n",
              "    <tr>\n",
              "      <th>115</th>\n",
              "      <td>0.700000</td>\n",
              "      <td>keeping prospective buyer waiting months brand...</td>\n",
              "    </tr>\n",
              "    <tr>\n",
              "      <th>17</th>\n",
              "      <td>0.700000</td>\n",
              "      <td>thats good move people subscribe car months buy</td>\n",
              "    </tr>\n",
              "    <tr>\n",
              "      <th>537</th>\n",
              "      <td>0.700000</td>\n",
              "      <td>went mg test drive time rohini showroom delhi ...</td>\n",
              "    </tr>\n",
              "    <tr>\n",
              "      <th>596</th>\n",
              "      <td>0.700000</td>\n",
              "      <td>superb pricing mg hector comes mg shield year ...</td>\n",
              "    </tr>\n",
              "    <tr>\n",
              "      <th>698</th>\n",
              "      <td>0.700000</td>\n",
              "      <td>monsoon forget diesel auto version harrier tat...</td>\n",
              "    </tr>\n",
              "    <tr>\n",
              "      <th>621</th>\n",
              "      <td>0.633333</td>\n",
              "      <td>looks mg hector everything favour good looks g...</td>\n",
              "    </tr>\n",
              "    <tr>\n",
              "      <th>330</th>\n",
              "      <td>0.600000</td>\n",
              "      <td>saw flesh huge road presence great alternative...</td>\n",
              "    </tr>\n",
              "    <tr>\n",
              "      <th>7</th>\n",
              "      <td>0.600000</td>\n",
              "      <td>calling captiva india suicide given captiva hi...</td>\n",
              "    </tr>\n",
              "    <tr>\n",
              "      <th>34</th>\n",
              "      <td>0.600000</td>\n",
              "      <td>look nice modded inch forged incubus alloy whe...</td>\n",
              "    </tr>\n",
              "    <tr>\n",
              "      <th>827</th>\n",
              "      <td>0.600000</td>\n",
              "      <td>vsrivatsa attachment good year tires l given u...</td>\n",
              "    </tr>\n",
              "    <tr>\n",
              "      <th>21</th>\n",
              "      <td>0.600000</td>\n",
              "      <td>carandbike tweet svp panoramic sunroof mg vect...</td>\n",
              "    </tr>\n",
              "    <tr>\n",
              "      <th>828</th>\n",
              "      <td>0.566667</td>\n",
              "      <td>ajmat given understand top end variants come c...</td>\n",
              "    </tr>\n",
              "    <tr>\n",
              "      <th>557</th>\n",
              "      <td>0.566667</td>\n",
              "      <td>nishsingh wife test drive car blown away marke...</td>\n",
              "    </tr>\n",
              "    <tr>\n",
              "      <th>595</th>\n",
              "      <td>0.560000</td>\n",
              "      <td>superb pricing priced par harrier offering fea...</td>\n",
              "    </tr>\n",
              "    <tr>\n",
              "      <th>609</th>\n",
              "      <td>0.550000</td>\n",
              "      <td>excellent pricing mg make big impact segment m...</td>\n",
              "    </tr>\n",
              "    <tr>\n",
              "      <th>668</th>\n",
              "      <td>0.533333</td>\n",
              "      <td>brilliant pricing strategy mg even though pers...</td>\n",
              "    </tr>\n",
              "    <tr>\n",
              "      <th>173</th>\n",
              "      <td>0.516667</td>\n",
              "      <td>cms looking diesel car better torque available...</td>\n",
              "    </tr>\n",
              "    <tr>\n",
              "      <th>757</th>\n",
              "      <td>0.500000</td>\n",
              "      <td>coolkurt still fully convinced research bit op...</td>\n",
              "    </tr>\n",
              "    <tr>\n",
              "      <th>179</th>\n",
              "      <td>0.500000</td>\n",
              "      <td>deehunk diesel cars dearer lakhs l suv buying ...</td>\n",
              "    </tr>\n",
              "    <tr>\n",
              "      <th>69</th>\n",
              "      <td>0.500000</td>\n",
              "      <td>thought came mind reading posts sure voice com...</td>\n",
              "    </tr>\n",
              "    <tr>\n",
              "      <th>89</th>\n",
              "      <td>0.500000</td>\n",
              "      <td>people kia seltos anybody market c suv took te...</td>\n",
              "    </tr>\n",
              "    <tr>\n",
              "      <th>272</th>\n",
              "      <td>0.500000</td>\n",
              "      <td>started spotting fewof roads delhi ncr glad we...</td>\n",
              "    </tr>\n",
              "    <tr>\n",
              "      <th>144</th>\n",
              "      <td>0.500000</td>\n",
              "      <td>entrant targeted see many maruti cars stranded...</td>\n",
              "    </tr>\n",
              "    <tr>\n",
              "      <th>768</th>\n",
              "      <td>0.500000</td>\n",
              "      <td>went book car friend today petrol automatic to...</td>\n",
              "    </tr>\n",
              "    <tr>\n",
              "      <th>329</th>\n",
              "      <td>0.476623</td>\n",
              "      <td>sebring reason harrier de tuned engine good mi...</td>\n",
              "    </tr>\n",
              "    <tr>\n",
              "      <th>654</th>\n",
              "      <td>0.475000</td>\n",
              "      <td>fantastic pricing mg hit bull eye priced withi...</td>\n",
              "    </tr>\n",
              "    <tr>\n",
              "      <th>624</th>\n",
              "      <td>0.466667</td>\n",
              "      <td>excellent pricing overall value packaging mg a...</td>\n",
              "    </tr>\n",
              "    <tr>\n",
              "      <th>...</th>\n",
              "      <td>...</td>\n",
              "      <td>...</td>\n",
              "    </tr>\n",
              "    <tr>\n",
              "      <th>543</th>\n",
              "      <td>-0.150000</td>\n",
              "      <td>jezza next airbags inside sunroof inside leath...</td>\n",
              "    </tr>\n",
              "    <tr>\n",
              "      <th>664</th>\n",
              "      <td>-0.150000</td>\n",
              "      <td>needed someone jio car market mg done product ...</td>\n",
              "    </tr>\n",
              "    <tr>\n",
              "      <th>555</th>\n",
              "      <td>-0.154545</td>\n",
              "      <td>crazy driver watch event live tomorrow th day ...</td>\n",
              "    </tr>\n",
              "    <tr>\n",
              "      <th>860</th>\n",
              "      <td>-0.155556</td>\n",
              "      <td>sreejinair rain sensing wipers didnt work car ...</td>\n",
              "    </tr>\n",
              "    <tr>\n",
              "      <th>530</th>\n",
              "      <td>-0.163095</td>\n",
              "      <td>honestly staged reveal getting bit boring firs...</td>\n",
              "    </tr>\n",
              "    <tr>\n",
              "      <th>725</th>\n",
              "      <td>-0.166667</td>\n",
              "      <td>akmar june hector crossed bookings kochi keral...</td>\n",
              "    </tr>\n",
              "    <tr>\n",
              "      <th>36</th>\n",
              "      <td>-0.166667</td>\n",
              "      <td>dont shared looks different breakdown shared e...</td>\n",
              "    </tr>\n",
              "    <tr>\n",
              "      <th>188</th>\n",
              "      <td>-0.166667</td>\n",
              "      <td>mods sorry sound broken record thought gto pro...</td>\n",
              "    </tr>\n",
              "    <tr>\n",
              "      <th>266</th>\n",
              "      <td>-0.166667</td>\n",
              "      <td>saw hector road rear unappealing disappointing...</td>\n",
              "    </tr>\n",
              "    <tr>\n",
              "      <th>125</th>\n",
              "      <td>-0.172917</td>\n",
              "      <td>obviously stranded dusty polluted chaotic kr p...</td>\n",
              "    </tr>\n",
              "    <tr>\n",
              "      <th>40</th>\n",
              "      <td>-0.175000</td>\n",
              "      <td>surprised despite multiple least couple appear...</td>\n",
              "    </tr>\n",
              "    <tr>\n",
              "      <th>703</th>\n",
              "      <td>-0.182143</td>\n",
              "      <td>vsrivatsa boot space seltos liter less compare...</td>\n",
              "    </tr>\n",
              "    <tr>\n",
              "      <th>121</th>\n",
              "      <td>-0.187500</td>\n",
              "      <td>dhruvwali anyone know performance timings hect...</td>\n",
              "    </tr>\n",
              "    <tr>\n",
              "      <th>283</th>\n",
              "      <td>-0.187500</td>\n",
              "      <td>diwa attachment way headlight protrudes c shap...</td>\n",
              "    </tr>\n",
              "    <tr>\n",
              "      <th>862</th>\n",
              "      <td>-0.193750</td>\n",
              "      <td>cardeep premium features work advertised imagi...</td>\n",
              "    </tr>\n",
              "    <tr>\n",
              "      <th>563</th>\n",
              "      <td>-0.194444</td>\n",
              "      <td>patron severe lag taking standstill pain stop ...</td>\n",
              "    </tr>\n",
              "    <tr>\n",
              "      <th>203</th>\n",
              "      <td>-0.200000</td>\n",
              "      <td>recorded could case car running gas extremely ...</td>\n",
              "    </tr>\n",
              "    <tr>\n",
              "      <th>107</th>\n",
              "      <td>-0.229167</td>\n",
              "      <td>pulse fear weak sunroof might attract thieves ...</td>\n",
              "    </tr>\n",
              "    <tr>\n",
              "      <th>323</th>\n",
              "      <td>-0.233333</td>\n",
              "      <td>drmohitg senior colleague hospital took delive...</td>\n",
              "    </tr>\n",
              "    <tr>\n",
              "      <th>361</th>\n",
              "      <td>-0.250000</td>\n",
              "      <td>picture must genuine nikhilthegunner legitimat...</td>\n",
              "    </tr>\n",
              "    <tr>\n",
              "      <th>319</th>\n",
              "      <td>-0.250000</td>\n",
              "      <td>coolkurt congratulations handling charges disg...</td>\n",
              "    </tr>\n",
              "    <tr>\n",
              "      <th>747</th>\n",
              "      <td>-0.250000</td>\n",
              "      <td>nsbhagwat different baojun donor vehicle hecto...</td>\n",
              "    </tr>\n",
              "    <tr>\n",
              "      <th>247</th>\n",
              "      <td>-0.269444</td>\n",
              "      <td>thanks update agwagon disappointing learn x mi...</td>\n",
              "    </tr>\n",
              "    <tr>\n",
              "      <th>359</th>\n",
              "      <td>-0.273333</td>\n",
              "      <td>sebring leather coming steering opened found s...</td>\n",
              "    </tr>\n",
              "    <tr>\n",
              "      <th>499</th>\n",
              "      <td>-0.302381</td>\n",
              "      <td>simeonovitch msil doesnt make bad handling car...</td>\n",
              "    </tr>\n",
              "    <tr>\n",
              "      <th>504</th>\n",
              "      <td>-0.347143</td>\n",
              "      <td>ankur fox expressed others thread response lag...</td>\n",
              "    </tr>\n",
              "    <tr>\n",
              "      <th>324</th>\n",
              "      <td>-0.366667</td>\n",
              "      <td>sharninder seltos hector guy bought sorry bad ...</td>\n",
              "    </tr>\n",
              "    <tr>\n",
              "      <th>135</th>\n",
              "      <td>-0.400000</td>\n",
              "      <td>owners mg hector understanding parking vehicle...</td>\n",
              "    </tr>\n",
              "    <tr>\n",
              "      <th>287</th>\n",
              "      <td>-0.500000</td>\n",
              "      <td>sreejinair bought used car yesterday sedan got...</td>\n",
              "    </tr>\n",
              "    <tr>\n",
              "      <th>492</th>\n",
              "      <td>-0.500000</td>\n",
              "      <td>swiftlife concern people end buying vehicle ch...</td>\n",
              "    </tr>\n",
              "  </tbody>\n",
              "</table>\n",
              "<p>892 rows × 2 columns</p>\n",
              "</div>"
            ],
            "text/plain": [
              "     polarity                                             review\n",
              "600  0.800000  gent announced price repeatedly mentioned stri...\n",
              "689  0.800000  brochure lists proud history reinforces custom...\n",
              "187  0.700000  good petrol engines expect hike k k maruti hyu...\n",
              "115  0.700000  keeping prospective buyer waiting months brand...\n",
              "17   0.700000    thats good move people subscribe car months buy\n",
              "537  0.700000  went mg test drive time rohini showroom delhi ...\n",
              "596  0.700000  superb pricing mg hector comes mg shield year ...\n",
              "698  0.700000  monsoon forget diesel auto version harrier tat...\n",
              "621  0.633333  looks mg hector everything favour good looks g...\n",
              "330  0.600000  saw flesh huge road presence great alternative...\n",
              "7    0.600000  calling captiva india suicide given captiva hi...\n",
              "34   0.600000  look nice modded inch forged incubus alloy whe...\n",
              "827  0.600000  vsrivatsa attachment good year tires l given u...\n",
              "21   0.600000  carandbike tweet svp panoramic sunroof mg vect...\n",
              "828  0.566667  ajmat given understand top end variants come c...\n",
              "557  0.566667  nishsingh wife test drive car blown away marke...\n",
              "595  0.560000  superb pricing priced par harrier offering fea...\n",
              "609  0.550000  excellent pricing mg make big impact segment m...\n",
              "668  0.533333  brilliant pricing strategy mg even though pers...\n",
              "173  0.516667  cms looking diesel car better torque available...\n",
              "757  0.500000  coolkurt still fully convinced research bit op...\n",
              "179  0.500000  deehunk diesel cars dearer lakhs l suv buying ...\n",
              "69   0.500000  thought came mind reading posts sure voice com...\n",
              "89   0.500000  people kia seltos anybody market c suv took te...\n",
              "272  0.500000  started spotting fewof roads delhi ncr glad we...\n",
              "144  0.500000  entrant targeted see many maruti cars stranded...\n",
              "768  0.500000  went book car friend today petrol automatic to...\n",
              "329  0.476623  sebring reason harrier de tuned engine good mi...\n",
              "654  0.475000  fantastic pricing mg hit bull eye priced withi...\n",
              "624  0.466667  excellent pricing overall value packaging mg a...\n",
              "..        ...                                                ...\n",
              "543 -0.150000  jezza next airbags inside sunroof inside leath...\n",
              "664 -0.150000  needed someone jio car market mg done product ...\n",
              "555 -0.154545  crazy driver watch event live tomorrow th day ...\n",
              "860 -0.155556  sreejinair rain sensing wipers didnt work car ...\n",
              "530 -0.163095  honestly staged reveal getting bit boring firs...\n",
              "725 -0.166667  akmar june hector crossed bookings kochi keral...\n",
              "36  -0.166667  dont shared looks different breakdown shared e...\n",
              "188 -0.166667  mods sorry sound broken record thought gto pro...\n",
              "266 -0.166667  saw hector road rear unappealing disappointing...\n",
              "125 -0.172917  obviously stranded dusty polluted chaotic kr p...\n",
              "40  -0.175000  surprised despite multiple least couple appear...\n",
              "703 -0.182143  vsrivatsa boot space seltos liter less compare...\n",
              "121 -0.187500  dhruvwali anyone know performance timings hect...\n",
              "283 -0.187500  diwa attachment way headlight protrudes c shap...\n",
              "862 -0.193750  cardeep premium features work advertised imagi...\n",
              "563 -0.194444  patron severe lag taking standstill pain stop ...\n",
              "203 -0.200000  recorded could case car running gas extremely ...\n",
              "107 -0.229167  pulse fear weak sunroof might attract thieves ...\n",
              "323 -0.233333  drmohitg senior colleague hospital took delive...\n",
              "361 -0.250000  picture must genuine nikhilthegunner legitimat...\n",
              "319 -0.250000  coolkurt congratulations handling charges disg...\n",
              "747 -0.250000  nsbhagwat different baojun donor vehicle hecto...\n",
              "247 -0.269444  thanks update agwagon disappointing learn x mi...\n",
              "359 -0.273333  sebring leather coming steering opened found s...\n",
              "499 -0.302381  simeonovitch msil doesnt make bad handling car...\n",
              "504 -0.347143  ankur fox expressed others thread response lag...\n",
              "324 -0.366667  sharninder seltos hector guy bought sorry bad ...\n",
              "135 -0.400000  owners mg hector understanding parking vehicle...\n",
              "287 -0.500000  sreejinair bought used car yesterday sedan got...\n",
              "492 -0.500000  swiftlife concern people end buying vehicle ch...\n",
              "\n",
              "[892 rows x 2 columns]"
            ]
          },
          "metadata": {
            "tags": []
          },
          "execution_count": 45
        }
      ]
    },
    {
      "cell_type": "markdown",
      "metadata": {
        "id": "pN5qbXdOdftD",
        "colab_type": "text"
      },
      "source": [
        "# Plotting Sentiment Score Distribution"
      ]
    },
    {
      "cell_type": "code",
      "metadata": {
        "id": "u3T1wLygHem1",
        "colab_type": "code",
        "outputId": "ce6476d0-72d4-44b7-f310-1a143eed2591",
        "colab": {
          "base_uri": "https://localhost:8080/",
          "height": 607
        }
      },
      "source": [
        "fig,ax = plt.subplots(figsize=(15,10))\n",
        "sentiment_df.hist(bins=[-1,-0.75,-0.5,-0.25,0.25,0.5,0.75,1], ax=ax, color='orange')\n",
        "plt.title('Sentiments Distribution on reviews')\n",
        "plt.show()"
      ],
      "execution_count": 0,
      "outputs": [
        {
          "output_type": "display_data",
          "data": {
            "image/png": "[encoded data removed]",
            "text/plain": [
              "<Figure size 1080x720 with 1 Axes>"
            ]
          },
          "metadata": {
            "tags": []
          }
        }
      ]
    },
    {
      "cell_type": "markdown",
      "metadata": {
        "id": "78griTeTdpBj",
        "colab_type": "text"
      },
      "source": [
        "# Converting Sentiment Score into \"Positive\" if Score > 0.25 , \"Negative\" if Score < -0.25 and \"Neutral\" if Score between -0.25 to 0.25"
      ]
    },
    {
      "cell_type": "code",
      "metadata": {
        "id": "BN3OkU7HYAuf",
        "colab_type": "code",
        "colab": {}
      },
      "source": [
        "sentiment_df['Sentiment'] = sentiment_df['polarity'].apply(lambda score: 'positive' if score > 0.25 else ('negative' if score <= -0.25 else 'neutral'))"
      ],
      "execution_count": 0,
      "outputs": []
    },
    {
      "cell_type": "code",
      "metadata": {
        "id": "mL4J72h2YJFi",
        "colab_type": "code",
        "outputId": "fe3e2c65-f90e-49b5-d361-2b173481e852",
        "colab": {
          "base_uri": "https://localhost:8080/",
          "height": 359
        }
      },
      "source": [
        "sentiment_df.head(10)"
      ],
      "execution_count": 0,
      "outputs": [
        {
          "output_type": "execute_result",
          "data": {
            "text/html": [
              "<div>\n",
              "<style scoped>\n",
              "    .dataframe tbody tr th:only-of-type {\n",
              "        vertical-align: middle;\n",
              "    }\n",
              "\n",
              "    .dataframe tbody tr th {\n",
              "        vertical-align: top;\n",
              "    }\n",
              "\n",
              "    .dataframe thead th {\n",
              "        text-align: right;\n",
              "    }\n",
              "</style>\n",
              "<table border=\"1\" class=\"dataframe\">\n",
              "  <thead>\n",
              "    <tr style=\"text-align: right;\">\n",
              "      <th></th>\n",
              "      <th>polarity</th>\n",
              "      <th>review</th>\n",
              "      <th>Sentiment</th>\n",
              "    </tr>\n",
              "  </thead>\n",
              "  <tbody>\n",
              "    <tr>\n",
              "      <th>0</th>\n",
              "      <td>0.200000</td>\n",
              "      <td>blackwasp thanks automobiles encyclopedia send...</td>\n",
              "      <td>neutral</td>\n",
              "    </tr>\n",
              "    <tr>\n",
              "      <th>1</th>\n",
              "      <td>0.062500</td>\n",
              "      <td>happening names cars days first harrier hector...</td>\n",
              "      <td>neutral</td>\n",
              "    </tr>\n",
              "    <tr>\n",
              "      <th>2</th>\n",
              "      <td>0.008750</td>\n",
              "      <td>blackwasp thanks automobiles encyclopedia send...</td>\n",
              "      <td>neutral</td>\n",
              "    </tr>\n",
              "    <tr>\n",
              "      <th>3</th>\n",
              "      <td>0.341667</td>\n",
              "      <td>quickly googled hector baojun chevy captiva tr...</td>\n",
              "      <td>positive</td>\n",
              "    </tr>\n",
              "    <tr>\n",
              "      <th>4</th>\n",
              "      <td>0.294444</td>\n",
              "      <td>rovingeye quickly googled hector baojun chevy ...</td>\n",
              "      <td>positive</td>\n",
              "    </tr>\n",
              "    <tr>\n",
              "      <th>5</th>\n",
              "      <td>0.003333</td>\n",
              "      <td>capitva indeed rebadged baojun wuling similar ...</td>\n",
              "      <td>neutral</td>\n",
              "    </tr>\n",
              "    <tr>\n",
              "      <th>6</th>\n",
              "      <td>0.027731</td>\n",
              "      <td>vipul singh capitva indeed rebadged baojun wul...</td>\n",
              "      <td>neutral</td>\n",
              "    </tr>\n",
              "    <tr>\n",
              "      <th>7</th>\n",
              "      <td>0.600000</td>\n",
              "      <td>calling captiva india suicide given captiva hi...</td>\n",
              "      <td>positive</td>\n",
              "    </tr>\n",
              "    <tr>\n",
              "      <th>8</th>\n",
              "      <td>0.000000</td>\n",
              "      <td>mg woo indians guns blazing check videos youtu...</td>\n",
              "      <td>neutral</td>\n",
              "    </tr>\n",
              "    <tr>\n",
              "      <th>9</th>\n",
              "      <td>0.000000</td>\n",
              "      <td>rovingeye mg woo indians guns blazing btw idea...</td>\n",
              "      <td>neutral</td>\n",
              "    </tr>\n",
              "  </tbody>\n",
              "</table>\n",
              "</div>"
            ],
            "text/plain": [
              "   polarity                                             review Sentiment\n",
              "0  0.200000  blackwasp thanks automobiles encyclopedia send...   neutral\n",
              "1  0.062500  happening names cars days first harrier hector...   neutral\n",
              "2  0.008750  blackwasp thanks automobiles encyclopedia send...   neutral\n",
              "3  0.341667  quickly googled hector baojun chevy captiva tr...  positive\n",
              "4  0.294444  rovingeye quickly googled hector baojun chevy ...  positive\n",
              "5  0.003333  capitva indeed rebadged baojun wuling similar ...   neutral\n",
              "6  0.027731  vipul singh capitva indeed rebadged baojun wul...   neutral\n",
              "7  0.600000  calling captiva india suicide given captiva hi...  positive\n",
              "8  0.000000  mg woo indians guns blazing check videos youtu...   neutral\n",
              "9  0.000000  rovingeye mg woo indians guns blazing btw idea...   neutral"
            ]
          },
          "metadata": {
            "tags": []
          },
          "execution_count": 48
        }
      ]
    },
    {
      "cell_type": "markdown",
      "metadata": {
        "id": "qPK6fE3QeMpQ",
        "colab_type": "text"
      },
      "source": [
        "# Supervised SVC model for Classifying Postive,Negative and Neutal"
      ]
    },
    {
      "cell_type": "code",
      "metadata": {
        "id": "8cdp4Rx0YQTj",
        "colab_type": "code",
        "colab": {}
      },
      "source": [
        "# importing train and test splitting for model creation\n",
        "from sklearn.model_selection import train_test_split"
      ],
      "execution_count": 0,
      "outputs": []
    },
    {
      "cell_type": "markdown",
      "metadata": {
        "id": "0mKybVw_eqoH",
        "colab_type": "text"
      },
      "source": [
        "# Spltting X as \"Review\" and y as \"Sentiment\""
      ]
    },
    {
      "cell_type": "code",
      "metadata": {
        "id": "D_lOoz5mY51n",
        "colab_type": "code",
        "colab": {}
      },
      "source": [
        "X = sentiment_df['review']\n",
        "y = sentiment_df['Sentiment']"
      ],
      "execution_count": 0,
      "outputs": []
    },
    {
      "cell_type": "code",
      "metadata": {
        "id": "mXaWfEReZNk2",
        "colab_type": "code",
        "outputId": "3d1b6fe1-9b02-4e5e-a1c8-123f2e40af0a",
        "colab": {
          "base_uri": "https://localhost:8080/",
          "height": 34
        }
      },
      "source": [
        "X.shape\n",
        "y.shape"
      ],
      "execution_count": 0,
      "outputs": [
        {
          "output_type": "execute_result",
          "data": {
            "text/plain": [
              "(892,)"
            ]
          },
          "metadata": {
            "tags": []
          },
          "execution_count": 51
        }
      ]
    },
    {
      "cell_type": "markdown",
      "metadata": {
        "id": "iXAIAx7se4eC",
        "colab_type": "text"
      },
      "source": [
        "# Train and Test Split with 70 % data on Training set and 30 % data on Test Set"
      ]
    },
    {
      "cell_type": "code",
      "metadata": {
        "id": "IBjA-jvqZ23S",
        "colab_type": "code",
        "colab": {}
      },
      "source": [
        "X_train,X_test,y_train,y_test = train_test_split(X,y,test_size=0.3,random_state=42)"
      ],
      "execution_count": 0,
      "outputs": []
    },
    {
      "cell_type": "markdown",
      "metadata": {
        "id": "0GaOblwSfHza",
        "colab_type": "text"
      },
      "source": [
        "# Importing Pipeline object to execute multiple classifyier\n",
        "\n",
        "# Importing Tfidf Vectorizer\n",
        "\n",
        "# Importing Linear SVC for classification"
      ]
    },
    {
      "cell_type": "code",
      "metadata": {
        "id": "CW_dh6SjZs40",
        "colab_type": "code",
        "colab": {}
      },
      "source": [
        "from sklearn.pipeline import Pipeline\n",
        "from sklearn.feature_extraction.text import TfidfVectorizer\n",
        "from sklearn.svm import LinearSVC"
      ],
      "execution_count": 0,
      "outputs": []
    },
    {
      "cell_type": "code",
      "metadata": {
        "id": "FgD6YJkhZ_SW",
        "colab_type": "code",
        "colab": {}
      },
      "source": [
        "text_clf = Pipeline([('tfidf',TfidfVectorizer()),\n",
        "                    ('clf',LinearSVC())])"
      ],
      "execution_count": 0,
      "outputs": []
    },
    {
      "cell_type": "markdown",
      "metadata": {
        "id": "YTrUoFdhfqDM",
        "colab_type": "text"
      },
      "source": [
        "# Fit Training data"
      ]
    },
    {
      "cell_type": "code",
      "metadata": {
        "id": "z7dxu3osaQh-",
        "colab_type": "code",
        "outputId": "a8d07792-625b-4d76-ca86-537e8265c326",
        "colab": {
          "base_uri": "https://localhost:8080/",
          "height": 374
        }
      },
      "source": [
        "text_clf.fit(X_train,y_train)"
      ],
      "execution_count": 0,
      "outputs": [
        {
          "output_type": "execute_result",
          "data": {
            "text/plain": [
              "Pipeline(memory=None,\n",
              "         steps=[('tfidf',\n",
              "                 TfidfVectorizer(analyzer='word', binary=False,\n",
              "                                 decode_error='strict',\n",
              "                                 dtype=<class 'numpy.float64'>,\n",
              "                                 encoding='utf-8', input='content',\n",
              "                                 lowercase=True, max_df=1.0, max_features=None,\n",
              "                                 min_df=1, ngram_range=(1, 1), norm='l2',\n",
              "                                 preprocessor=None, smooth_idf=True,\n",
              "                                 stop_words=None, strip_accents=None,\n",
              "                                 sublinear_tf=False,\n",
              "                                 token_pattern='(?u)\\\\b\\\\w\\\\w+\\\\b',\n",
              "                                 tokenizer=None, use_idf=True,\n",
              "                                 vocabulary=None)),\n",
              "                ('clf',\n",
              "                 LinearSVC(C=1.0, class_weight=None, dual=True,\n",
              "                           fit_intercept=True, intercept_scaling=1,\n",
              "                           loss='squared_hinge', max_iter=1000,\n",
              "                           multi_class='ovr', penalty='l2', random_state=None,\n",
              "                           tol=0.0001, verbose=0))],\n",
              "         verbose=False)"
            ]
          },
          "metadata": {
            "tags": []
          },
          "execution_count": 55
        }
      ]
    },
    {
      "cell_type": "markdown",
      "metadata": {
        "id": "sHHkpc9QfuCr",
        "colab_type": "text"
      },
      "source": [
        "# Predicting Test data"
      ]
    },
    {
      "cell_type": "code",
      "metadata": {
        "id": "9sTi-Bzqaa7Z",
        "colab_type": "code",
        "colab": {}
      },
      "source": [
        "predictions = text_clf.predict(X_test)"
      ],
      "execution_count": 0,
      "outputs": []
    },
    {
      "cell_type": "markdown",
      "metadata": {
        "id": "K78kxyY1fzCw",
        "colab_type": "text"
      },
      "source": [
        "# Evaluvation"
      ]
    },
    {
      "cell_type": "code",
      "metadata": {
        "id": "FnAlXqSUao6-",
        "colab_type": "code",
        "colab": {}
      },
      "source": [
        "from sklearn.metrics import accuracy_score,classification_report,confusion_matrix"
      ],
      "execution_count": 0,
      "outputs": []
    },
    {
      "cell_type": "markdown",
      "metadata": {
        "id": "xkWf9SbMf3GB",
        "colab_type": "text"
      },
      "source": [
        "# Confusion Metrics"
      ]
    },
    {
      "cell_type": "code",
      "metadata": {
        "id": "8ktP0J9xa1o_",
        "colab_type": "code",
        "outputId": "95a9ed25-e214-4d77-9438-faf8770ad3c1",
        "colab": {
          "base_uri": "https://localhost:8080/",
          "height": 187
        }
      },
      "source": [
        "print(classification_report(y_test,predictions))"
      ],
      "execution_count": 0,
      "outputs": [
        {
          "output_type": "stream",
          "text": [
            "              precision    recall  f1-score   support\n",
            "\n",
            "    negative       0.00      0.00      0.00         4\n",
            "     neutral       0.83      0.97      0.89       216\n",
            "    positive       0.57      0.17      0.26        48\n",
            "\n",
            "    accuracy                           0.81       268\n",
            "   macro avg       0.47      0.38      0.38       268\n",
            "weighted avg       0.77      0.81      0.76       268\n",
            "\n"
          ],
          "name": "stdout"
        }
      ]
    },
    {
      "cell_type": "markdown",
      "metadata": {
        "id": "axVOFK0Xf61s",
        "colab_type": "text"
      },
      "source": [
        "# Accuracy Score"
      ]
    },
    {
      "cell_type": "code",
      "metadata": {
        "id": "foWzUucAbDw0",
        "colab_type": "code",
        "outputId": "61933890-f93d-4173-9198-b2de4864973f",
        "colab": {
          "base_uri": "https://localhost:8080/",
          "height": 34
        }
      },
      "source": [
        "accuracy_score(y_test,predictions)"
      ],
      "execution_count": 0,
      "outputs": [
        {
          "output_type": "execute_result",
          "data": {
            "text/plain": [
              "0.8097014925373134"
            ]
          },
          "metadata": {
            "tags": []
          },
          "execution_count": 59
        }
      ]
    }
  ]
}